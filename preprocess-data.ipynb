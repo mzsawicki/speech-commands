{
 "cells": [
  {
   "cell_type": "code",
   "execution_count": 1,
   "id": "lasting-nickname",
   "metadata": {},
   "outputs": [],
   "source": [
    "import os\n",
    "import librosa\n",
    "import librosa.display\n",
    "import matplotlib.pyplot as plt\n",
    "import numpy as np"
   ]
  },
  {
   "cell_type": "code",
   "execution_count": 2,
   "id": "bibliographic-handling",
   "metadata": {},
   "outputs": [],
   "source": [
    "N_MFCCS=20"
   ]
  },
  {
   "cell_type": "code",
   "execution_count": 3,
   "id": "dirty-hometown",
   "metadata": {},
   "outputs": [],
   "source": [
    "def extract_mfcc_features(file, n_mfccs=10):\n",
    "    signal, sampling_rate = librosa.load(file)\n",
    "    mfcc = librosa.feature.mfcc(signal, n_mfcc=n_mfccs, sr=sampling_rate)\n",
    "    return mfcc, sampling_rate"
   ]
  },
  {
   "cell_type": "code",
   "execution_count": 4,
   "id": "opening-refund",
   "metadata": {},
   "outputs": [],
   "source": [
    "training_set_dir = os.path.join('data', 'train-set')\n",
    "dev_set_dir = os.path.join('data', 'dev-set')\n",
    "test_set_dir = os.path.join('data', 'test-set')"
   ]
  },
  {
   "cell_type": "code",
   "execution_count": 5,
   "id": "applied-patrick",
   "metadata": {},
   "outputs": [],
   "source": [
    "dev_set_dir_on = os.path.join(dev_set_dir, 'on')\n",
    "dev_set_dir_off = os.path.join(dev_set_dir, 'off')\n",
    "dev_set_dir_other = os.path.join(dev_set_dir, 'other')\n",
    "\n",
    "example_file_on = os.path.join(dev_set_dir_on, np.random.choice(os.listdir(dev_set_dir_on)))\n",
    "example_file_off = os.path.join(dev_set_dir_off, np.random.choice(os.listdir(dev_set_dir_off)))\n",
    "example_file_other = os.path.join(dev_set_dir_other, np.random.choice(os.listdir(dev_set_dir_other)))"
   ]
  },
  {
   "cell_type": "code",
   "execution_count": 6,
   "id": "alpine-mounting",
   "metadata": {},
   "outputs": [],
   "source": [
    "example_features_on, sampling_rate_on = extract_mfcc_features(example_file_on, n_mfccs=N_MFCCS)\n",
    "example_features_off, sampling_rate_off = extract_mfcc_features(example_file_off, n_mfccs=N_MFCCS)\n",
    "example_features_other, sampling_rate_other = extract_mfcc_features(example_file_other, n_mfccs=N_MFCCS)"
   ]
  },
  {
   "cell_type": "code",
   "execution_count": 7,
   "id": "bulgarian-replacement",
   "metadata": {},
   "outputs": [
    {
     "data": {
      "text/plain": [
       "22050"
      ]
     },
     "execution_count": 7,
     "metadata": {},
     "output_type": "execute_result"
    }
   ],
   "source": [
    "sampling_rate_on"
   ]
  },
  {
   "cell_type": "code",
   "execution_count": 8,
   "id": "convertible-contact",
   "metadata": {},
   "outputs": [
    {
     "data": {
      "text/plain": [
       "array([[-4.76797211e+02, -4.71154175e+02, -4.13370667e+02,\n",
       "        -3.78218231e+02, -3.58409485e+02, -3.43126404e+02,\n",
       "        -3.34668579e+02, -3.35869293e+02, -3.45610626e+02,\n",
       "        -3.54996155e+02, -3.70300201e+02, -3.87770386e+02,\n",
       "        -4.00306580e+02, -4.19923401e+02, -4.47226868e+02,\n",
       "        -4.47749207e+02, -4.48012909e+02, -4.53582764e+02,\n",
       "        -4.53188110e+02, -4.56815155e+02, -4.81680756e+02,\n",
       "        -5.04706055e+02, -5.04773315e+02, -5.00956848e+02,\n",
       "        -4.99900360e+02, -5.02898499e+02, -5.07606171e+02,\n",
       "        -4.98205780e+02, -4.99390106e+02, -5.00956909e+02,\n",
       "        -5.03431610e+02, -5.06887238e+02, -5.02590240e+02,\n",
       "        -5.05704437e+02, -5.11664978e+02, -5.07274872e+02,\n",
       "        -5.04263641e+02, -5.02029419e+02, -5.03119293e+02,\n",
       "        -5.01967896e+02, -5.04047913e+02, -5.06994873e+02,\n",
       "        -4.74858368e+02, -4.55160980e+02],\n",
       "       [ 2.00900360e+02,  2.21533752e+02,  2.32438797e+02,\n",
       "         2.36301788e+02,  2.40006256e+02,  2.43214417e+02,\n",
       "         2.48639053e+02,  2.49182297e+02,  2.47822693e+02,\n",
       "         2.48800537e+02,  2.46010315e+02,  2.41752258e+02,\n",
       "         2.39450195e+02,  2.29323334e+02,  2.17128738e+02,\n",
       "         2.17742554e+02,  2.18902100e+02,  2.15514725e+02,\n",
       "         2.20655273e+02,  2.25328461e+02,  2.19188599e+02,\n",
       "         2.24722961e+02,  2.26767853e+02,  2.28911591e+02,\n",
       "         2.26992874e+02,  2.23484070e+02,  2.22312973e+02,\n",
       "         2.28893646e+02,  2.29999466e+02,  2.25730957e+02,\n",
       "         2.22508575e+02,  2.17121948e+02,  2.22106537e+02,\n",
       "         2.23659149e+02,  2.21840454e+02,  2.25760376e+02,\n",
       "         2.24844101e+02,  2.26945572e+02,  2.27802185e+02,\n",
       "         2.28253555e+02,  2.26158432e+02,  2.24186020e+02,\n",
       "         1.84366333e+02,  1.56847839e+02],\n",
       "       [-2.67972069e+01, -3.84068069e+01, -5.92821426e+01,\n",
       "        -7.01828995e+01, -8.01688385e+01, -8.54918137e+01,\n",
       "        -8.08142090e+01, -7.68533173e+01, -7.67102203e+01,\n",
       "        -7.20560455e+01, -6.80921402e+01, -5.87286148e+01,\n",
       "        -4.50775375e+01, -3.38761330e+01, -2.91514778e+01,\n",
       "        -3.44141846e+01, -3.47389069e+01, -3.14428902e+01,\n",
       "        -3.46424942e+01, -3.56057205e+01, -4.06286774e+01,\n",
       "        -4.31454659e+01, -4.29497528e+01, -4.23056183e+01,\n",
       "        -4.44797249e+01, -4.66525230e+01, -4.37095566e+01,\n",
       "        -4.38275146e+01, -4.10937271e+01, -4.70456619e+01,\n",
       "        -4.59437981e+01, -4.90276527e+01, -4.96845436e+01,\n",
       "        -4.08340454e+01, -3.78464966e+01, -4.22867279e+01,\n",
       "        -4.64743347e+01, -4.38095093e+01, -4.16028671e+01,\n",
       "        -4.05203743e+01, -4.29860687e+01, -4.28611450e+01,\n",
       "        -1.49429131e+01,  3.09339666e+00],\n",
       "       [ 2.09641113e+01,  1.98710632e+01,  2.15826492e+01,\n",
       "         1.85878086e+01,  1.27218418e+01,  1.06746902e+01,\n",
       "         1.46129055e+01,  1.34898338e+01,  1.04228382e+01,\n",
       "         1.01112175e+01,  9.27746201e+00,  1.43604851e+01,\n",
       "         2.98922405e+01,  5.19209175e+01,  6.24317093e+01,\n",
       "         5.58413391e+01,  5.43184128e+01,  5.99367447e+01,\n",
       "         5.37751083e+01,  4.35837250e+01,  3.79051056e+01,\n",
       "         2.87807636e+01,  2.58420982e+01,  2.73947392e+01,\n",
       "         2.68299980e+01,  2.86192627e+01,  2.67998447e+01,\n",
       "         2.51062412e+01,  2.55402145e+01,  2.43999939e+01,\n",
       "         2.93947887e+01,  2.83655052e+01,  2.30431938e+01,\n",
       "         2.81753063e+01,  3.34374084e+01,  2.51551971e+01,\n",
       "         2.36331978e+01,  2.46921616e+01,  2.54656792e+01,\n",
       "         2.88602409e+01,  2.33581238e+01,  2.36165409e+01,\n",
       "         1.42413960e+01,  1.01541481e+01],\n",
       "       [ 3.03812714e+01,  2.08713570e+01, -5.18008614e+00,\n",
       "        -1.14237499e+01, -1.52113590e+01, -1.66255016e+01,\n",
       "        -1.67286263e+01, -2.27093697e+01, -1.98551140e+01,\n",
       "        -1.76489105e+01, -1.79102020e+01, -1.25621901e+01,\n",
       "         1.76126838e+00,  2.37574940e+01,  3.87000313e+01,\n",
       "         3.58949509e+01,  3.32047806e+01,  3.46226578e+01,\n",
       "         3.55632019e+01,  3.26991272e+01,  3.36940613e+01,\n",
       "         3.68657608e+01,  3.88399162e+01,  3.67455826e+01,\n",
       "         3.59074707e+01,  4.00459137e+01,  3.67366714e+01,\n",
       "         3.66606140e+01,  3.65934830e+01,  3.74618530e+01,\n",
       "         3.88055115e+01,  3.51439247e+01,  3.15868015e+01,\n",
       "         3.39710999e+01,  3.91569901e+01,  3.69861031e+01,\n",
       "         3.70943451e+01,  3.45731163e+01,  3.42886238e+01,\n",
       "         3.49292374e+01,  2.94104958e+01,  3.25625076e+01,\n",
       "         4.57794266e+01,  4.10886154e+01],\n",
       "       [-1.61614876e+01, -1.89042091e+01, -2.35337296e+01,\n",
       "        -2.18229771e+01, -2.44969711e+01, -2.73993034e+01,\n",
       "        -2.22350502e+01, -2.10036087e+01, -2.25232201e+01,\n",
       "        -2.22688255e+01, -2.56666718e+01, -2.58330574e+01,\n",
       "        -2.09904213e+01, -8.23592567e+00, -6.34610271e+00,\n",
       "        -9.01102638e+00, -1.33909874e+01, -1.34561291e+01,\n",
       "        -1.23245449e+01, -1.12577686e+01, -1.78101902e+01,\n",
       "        -2.53683014e+01, -1.94309235e+01, -2.20924301e+01,\n",
       "        -2.35775318e+01, -2.39522324e+01, -2.59121895e+01,\n",
       "        -2.24653034e+01, -2.11227875e+01, -2.45372543e+01,\n",
       "        -2.79161606e+01, -3.29307327e+01, -2.94587708e+01,\n",
       "        -2.19285011e+01, -2.25388412e+01, -2.37965851e+01,\n",
       "        -2.11154881e+01, -2.52367744e+01, -2.92907944e+01,\n",
       "        -2.69363880e+01, -2.56385632e+01, -2.45021687e+01,\n",
       "        -2.35406265e+01, -1.73958282e+01],\n",
       "       [ 2.18840256e+01,  2.26372223e+01,  2.42742863e+01,\n",
       "         2.36109962e+01,  1.93827477e+01,  1.82282734e+01,\n",
       "         2.33396797e+01,  2.63298740e+01,  2.63795052e+01,\n",
       "         2.62680931e+01,  2.55101776e+01,  1.73896694e+01,\n",
       "         9.86909270e-01, -2.96328926e+00,  6.55949783e+00,\n",
       "         1.11785250e+01,  9.45752525e+00,  8.39749050e+00,\n",
       "         7.70881701e+00,  1.40836811e+01,  1.80198097e+01,\n",
       "         1.67856770e+01,  2.26795177e+01,  2.45036316e+01,\n",
       "         1.97599106e+01,  1.64985085e+01,  1.42386551e+01,\n",
       "         1.51149645e+01,  1.89749775e+01,  1.46363373e+01,\n",
       "         1.10400562e+01,  8.82061672e+00,  1.27376976e+01,\n",
       "         2.04272346e+01,  2.10998020e+01,  1.83196449e+01,\n",
       "         1.98207703e+01,  1.34029846e+01,  9.00161552e+00,\n",
       "         1.43910599e+01,  2.08640633e+01,  1.96021080e+01,\n",
       "         1.81432877e+01,  1.94123192e+01],\n",
       "       [-1.49695432e+00,  9.85842705e+00,  7.53960419e+00,\n",
       "         7.70436764e+00,  5.49043751e+00,  8.26062870e+00,\n",
       "         1.22905912e+01,  1.11565056e+01,  9.69322968e+00,\n",
       "         8.87606621e+00,  8.55927086e+00,  1.02638941e+01,\n",
       "         1.28744519e+00, -5.10658026e+00,  5.89962816e+00,\n",
       "         8.15404892e+00,  6.83885002e+00,  6.04417801e+00,\n",
       "         5.21708298e+00,  7.64338779e+00,  1.19090118e+01,\n",
       "         1.46194534e+01,  1.69375210e+01,  1.80721855e+01,\n",
       "         1.41789370e+01,  1.32528372e+01,  1.30616798e+01,\n",
       "         1.64069653e+01,  2.14860115e+01,  1.71452370e+01,\n",
       "         1.67347069e+01,  1.62726173e+01,  1.23221760e+01,\n",
       "         1.52350540e+01,  1.89863739e+01,  1.80808754e+01,\n",
       "         1.69326897e+01,  1.24413509e+01,  1.18060360e+01,\n",
       "         1.56157761e+01,  1.99442406e+01,  2.11851425e+01,\n",
       "         1.72187462e+01,  1.94652195e+01],\n",
       "       [-4.00102711e+00, -1.49685917e+01, -3.10333004e+01,\n",
       "        -4.07271652e+01, -4.89427109e+01, -5.37823181e+01,\n",
       "        -5.09998779e+01, -4.92705688e+01, -5.11054230e+01,\n",
       "        -4.94936752e+01, -4.71516037e+01, -4.46705856e+01,\n",
       "        -4.30996628e+01, -3.80690613e+01, -2.74261303e+01,\n",
       "        -2.65642014e+01, -2.69561539e+01, -2.70740929e+01,\n",
       "        -2.70965347e+01, -2.85716515e+01, -2.32040482e+01,\n",
       "        -1.80180702e+01, -1.88124313e+01, -1.85279770e+01,\n",
       "        -1.89980946e+01, -1.76035042e+01, -1.56612949e+01,\n",
       "        -1.36872997e+01, -1.26802731e+01, -1.21524277e+01,\n",
       "        -9.08982372e+00, -9.40504265e+00, -1.34800825e+01,\n",
       "        -1.47012558e+01, -1.24962578e+01, -1.61409874e+01,\n",
       "        -1.71634941e+01, -1.32700214e+01, -1.16738472e+01,\n",
       "        -8.52803040e+00, -6.48082447e+00, -8.97539234e+00,\n",
       "        -1.60863972e+01, -1.16220474e+01],\n",
       "       [ 1.31732311e+01,  2.50318813e+01,  4.66892357e+01,\n",
       "         5.27028351e+01,  5.05070839e+01,  5.10016479e+01,\n",
       "         5.48487473e+01,  5.38749466e+01,  5.37341919e+01,\n",
       "         5.30770493e+01,  5.08188553e+01,  4.24841537e+01,\n",
       "         3.23563614e+01,  2.68925896e+01,  2.55938816e+01,\n",
       "         2.73275204e+01,  3.07999802e+01,  2.96293049e+01,\n",
       "         2.62170830e+01,  2.54859543e+01,  2.20006008e+01,\n",
       "         1.12032871e+01,  1.24755468e+01,  1.31355619e+01,\n",
       "         1.44458256e+01,  1.64700127e+01,  1.79860802e+01,\n",
       "         1.31326599e+01,  1.06798019e+01,  1.72250938e+01,\n",
       "         2.11566811e+01,  2.12331352e+01,  1.79161606e+01,\n",
       "         1.64291439e+01,  1.67964478e+01,  1.22241077e+01,\n",
       "         1.12637138e+01,  1.86145325e+01,  1.87992592e+01,\n",
       "         1.77784042e+01,  1.85184517e+01,  1.53304968e+01,\n",
       "         1.28422985e+01,  8.32851410e+00],\n",
       "       [ 5.06470966e+00,  3.40906143e+00,  1.51552296e+01,\n",
       "         1.41658449e+01,  8.46707630e+00,  7.92057514e+00,\n",
       "         1.33187256e+01,  1.20773773e+01,  8.95804119e+00,\n",
       "         7.57463741e+00,  8.18358421e+00,  7.42022228e+00,\n",
       "         8.17922688e+00, -5.21184921e+00, -2.40297756e+01,\n",
       "        -2.81649742e+01, -2.55666771e+01, -2.48414078e+01,\n",
       "        -2.19735565e+01, -1.70872383e+01, -8.29057312e+00,\n",
       "         3.97287917e+00,  5.31997871e+00,  3.64741755e+00,\n",
       "         6.38715935e+00,  5.52057743e+00,  5.19183302e+00,\n",
       "         6.10179853e+00,  5.52050972e+00,  8.33703804e+00,\n",
       "         8.31278610e+00,  6.42473888e+00,  4.02993679e+00,\n",
       "         3.23308516e+00,  6.41635084e+00,  6.33237171e+00,\n",
       "         7.07879639e+00,  8.51698494e+00,  7.25723457e+00,\n",
       "         5.83893728e+00,  4.88407421e+00,  3.20053196e+00,\n",
       "         4.30490255e-01, -1.09846640e+00],\n",
       "       [ 2.51907921e+00,  2.27783251e+00,  4.36764908e+00,\n",
       "         3.77192616e+00, -8.65180969e-01, -1.03690600e+00,\n",
       "         2.41223431e+00,  3.26255560e+00,  3.95529270e+00,\n",
       "         5.31295061e+00,  9.47935486e+00,  5.89666986e+00,\n",
       "         4.00686550e+00, -8.62831950e-01, -6.25732899e+00,\n",
       "        -8.53187370e+00, -9.23775387e+00, -1.40162630e+01,\n",
       "        -1.20408382e+01, -6.97865582e+00, -3.83816576e+00,\n",
       "        -1.02469625e+01, -8.57558060e+00, -7.91954756e+00,\n",
       "        -5.12174129e+00, -7.75261402e+00, -1.02402039e+01,\n",
       "        -6.92347956e+00, -5.93151283e+00, -5.15837622e+00,\n",
       "        -8.59594154e+00, -1.26140156e+01, -1.10170040e+01,\n",
       "        -1.08181944e+01, -8.61240959e+00, -9.98241234e+00,\n",
       "        -9.23936844e+00, -7.37023163e+00, -5.17394924e+00,\n",
       "        -4.91410923e+00, -4.95868635e+00, -9.27889824e+00,\n",
       "         4.20153767e-01,  4.51014137e+00],\n",
       "       [ 6.56064177e+00,  6.02540016e+00, -3.70145035e+00,\n",
       "        -6.37951374e-01, -4.04136181e-02, -3.83764505e-01,\n",
       "         8.69460821e-01, -1.24506950e+00,  1.62243748e+00,\n",
       "         3.64376974e+00,  2.76796055e+00,  7.10853481e+00,\n",
       "         1.33723145e+01,  1.85238724e+01,  1.32061024e+01,\n",
       "         1.06493778e+01,  1.03136835e+01,  1.13687115e+01,\n",
       "         1.34513779e+01,  1.50972519e+01,  1.94760399e+01,\n",
       "         1.94457245e+01,  2.29242935e+01,  2.35446777e+01,\n",
       "         2.01682663e+01,  2.07303467e+01,  1.85397453e+01,\n",
       "         1.72272644e+01,  1.61462517e+01,  1.99716797e+01,\n",
       "         2.01670265e+01,  1.60745621e+01,  1.81910706e+01,\n",
       "         2.07564163e+01,  1.83576508e+01,  1.46623363e+01,\n",
       "         1.44780083e+01,  1.70691128e+01,  1.95014420e+01,\n",
       "         2.09239655e+01,  2.25999832e+01,  1.95078697e+01,\n",
       "         8.30598259e+00,  4.59784412e+00],\n",
       "       [ 6.94206142e+00, -6.10220909e+00, -2.84690132e+01,\n",
       "        -3.18373470e+01, -3.57768860e+01, -3.88622284e+01,\n",
       "        -4.00870934e+01, -3.81375122e+01, -3.61666031e+01,\n",
       "        -3.56210747e+01, -3.77376175e+01, -3.44696541e+01,\n",
       "        -2.48000031e+01, -2.06359787e+01, -2.12784977e+01,\n",
       "        -2.20996933e+01, -2.35214462e+01, -1.65839252e+01,\n",
       "        -1.61635475e+01, -1.36641598e+01, -7.91370678e+00,\n",
       "         6.40797377e+00,  9.67284966e+00,  8.64760399e+00,\n",
       "         4.98146582e+00,  5.66008091e+00,  6.55865574e+00,\n",
       "         3.63122463e+00,  4.29683477e-01,  6.21521759e+00,\n",
       "         7.59240818e+00,  3.58775759e+00,  6.70489311e+00,\n",
       "         6.38107586e+00,  2.34460974e+00,  4.22584295e+00,\n",
       "         4.24264050e+00,  2.26900339e+00,  5.62112093e+00,\n",
       "         9.29769611e+00,  1.06080952e+01,  8.93711853e+00,\n",
       "         9.11534691e+00,  7.12315655e+00],\n",
       "       [-3.59171152e+00,  4.22404957e+00,  1.55203676e+01,\n",
       "         2.05762291e+01,  2.03195190e+01,  2.07075806e+01,\n",
       "         2.40442696e+01,  2.50598526e+01,  2.33751602e+01,\n",
       "         2.28245888e+01,  2.16606293e+01,  1.62891312e+01,\n",
       "         1.37052469e+01,  1.95787315e+01,  2.28347359e+01,\n",
       "         2.07233124e+01,  1.91659813e+01,  2.33472519e+01,\n",
       "         2.34457703e+01,  1.62129326e+01,  1.66361105e+00,\n",
       "        -7.96527386e+00, -8.20700836e+00, -6.50252533e+00,\n",
       "        -3.23211670e+00, -3.50674963e+00, -1.39962351e+00,\n",
       "        -1.14911020e+00, -2.94519854e+00, -5.53253114e-01,\n",
       "        -2.52838182e+00, -8.15662193e+00, -5.40700531e+00,\n",
       "        -4.83762598e+00, -9.26505661e+00, -5.37287712e+00,\n",
       "        -4.04725361e+00, -5.27594662e+00, -3.51663566e+00,\n",
       "        -1.33213747e+00, -6.45720482e-01,  1.43227220e-01,\n",
       "         1.49885035e+00,  2.73122931e+00],\n",
       "       [ 1.16796598e+01,  1.25105886e+01,  7.53729820e+00,\n",
       "         4.25744116e-01, -3.35377455e+00, -1.93073046e+00,\n",
       "        -6.37111485e-01,  2.94027716e-01, -8.80281925e-01,\n",
       "        -3.01929623e-01,  7.77547300e-01,  3.23669338e+00,\n",
       "         9.59907341e+00,  1.63035786e+00, -1.17141476e+01,\n",
       "        -1.57717276e+01, -1.73651886e+01, -1.53449631e+01,\n",
       "        -1.02658157e+01, -9.52089596e+00, -4.68411255e+00,\n",
       "         9.83589363e+00,  7.68188477e+00,  9.01925278e+00,\n",
       "         1.25312519e+01,  1.26811676e+01,  1.40721302e+01,\n",
       "         1.56343451e+01,  1.64173393e+01,  1.46312084e+01,\n",
       "         1.16813889e+01,  9.28178024e+00,  1.06124420e+01,\n",
       "         1.19205008e+01,  6.06858253e+00,  9.89097214e+00,\n",
       "         1.36546021e+01,  1.13650379e+01,  9.29116821e+00,\n",
       "         1.01433697e+01,  1.19341087e+01,  1.63723087e+01,\n",
       "         1.52298546e+01,  1.31411858e+01],\n",
       "       [-2.95818758e+00,  2.20051575e+00,  2.86641455e+00,\n",
       "         2.91196728e+00, -1.07715905e+00, -3.95621681e+00,\n",
       "        -5.10844612e+00, -2.84774160e+00, -1.27627563e+00,\n",
       "        -1.27733856e-01,  3.76117170e-01,  1.82272291e+00,\n",
       "         2.51873684e+00, -5.05947018e+00, -5.57983971e+00,\n",
       "        -3.20231676e+00, -4.37262058e+00, -6.03777504e+00,\n",
       "        -6.40100908e+00, -2.27924681e+00, -6.62530065e-01,\n",
       "         4.50830162e-01,  1.85122299e+00, -2.68006897e+00,\n",
       "        -3.98185730e-01,  1.30730629e-01, -4.08388495e-01,\n",
       "         7.26278484e-01,  2.78361702e+00,  3.62081742e+00,\n",
       "         5.19240797e-01,  2.57787442e+00,  3.09156895e+00,\n",
       "         1.67354512e+00, -5.52909994e+00,  1.91041112e-01,\n",
       "         1.02941036e+00, -2.43292046e+00, -2.06835055e+00,\n",
       "        -4.79285955e-01,  2.38803148e+00,  3.13137698e+00,\n",
       "         5.62839508e-01,  9.76591229e-01],\n",
       "       [ 1.93879938e+00, -8.22317362e-01, -3.06479168e+00,\n",
       "        -2.08361602e+00, -2.32871056e+00, -6.15505362e+00,\n",
       "        -5.93848467e+00, -4.69107342e+00, -4.50280094e+00,\n",
       "        -4.09434462e+00, -5.89857674e+00, -9.83050442e+00,\n",
       "        -8.80939102e+00, -3.35913086e+00,  7.50116253e+00,\n",
       "         1.02449322e+01,  8.25904655e+00,  8.13070869e+00,\n",
       "         3.89553404e+00,  3.27583647e+00, -2.91406065e-01,\n",
       "        -2.68048048e-01, -9.64038014e-01, -5.54173279e+00,\n",
       "        -6.73165607e+00, -5.44130898e+00, -6.40900803e+00,\n",
       "        -2.16349936e+00, -1.38270414e+00,  4.43372160e-01,\n",
       "        -1.56567979e+00, -1.33590102e-01, -1.25477219e+00,\n",
       "        -1.25851083e+00, -2.16661644e+00, -1.03234005e+00,\n",
       "        -1.18883491e+00, -1.89226544e+00, -2.22121668e+00,\n",
       "        -3.10986948e+00,  9.27786827e-01,  4.82414782e-01,\n",
       "        -2.51718497e+00, -5.13972402e-01],\n",
       "       [ 8.14245033e+00,  1.12324829e+01,  1.73126793e+01,\n",
       "         1.80773315e+01,  2.06755867e+01,  2.39419785e+01,\n",
       "         2.50683765e+01,  2.50968113e+01,  2.53341465e+01,\n",
       "         2.56615391e+01,  2.34816341e+01,  2.06077995e+01,\n",
       "         1.76886406e+01,  8.56483555e+00,  1.17146091e+01,\n",
       "         1.07695656e+01,  7.14032984e+00,  7.95205975e+00,\n",
       "         8.04651642e+00,  1.13011322e+01,  8.81100750e+00,\n",
       "         1.18616600e+01,  8.41248322e+00,  9.11603546e+00,\n",
       "         6.50640583e+00,  6.20907211e+00,  4.39138174e+00,\n",
       "         7.04047203e+00,  8.77358818e+00,  1.12934361e+01,\n",
       "         9.22036171e+00,  9.79318428e+00,  1.06630859e+01,\n",
       "         9.04573345e+00,  9.33081150e+00,  1.01717911e+01,\n",
       "         1.15794897e+01,  1.05319557e+01,  8.20702267e+00,\n",
       "         6.55858994e+00,  9.19036770e+00,  8.41762543e+00,\n",
       "         8.63711357e+00,  1.13550777e+01],\n",
       "       [ 3.86757755e+00, -5.97900867e+00, -1.70040302e+01,\n",
       "        -1.90119915e+01, -2.06825981e+01, -2.35020866e+01,\n",
       "        -2.10918980e+01, -2.03624611e+01, -2.00263329e+01,\n",
       "        -1.94142551e+01, -1.77006817e+01, -1.39009991e+01,\n",
       "        -1.15913258e+01, -1.27517214e+01, -1.42590160e+01,\n",
       "        -1.63366146e+01, -1.65600586e+01, -1.25441837e+01,\n",
       "        -4.63076496e+00, -5.94870377e+00, -3.96236396e+00,\n",
       "         9.17184293e-01,  1.47054017e-01,  3.77193183e-01,\n",
       "        -9.61278081e-02, -2.70360279e+00, -6.89636755e+00,\n",
       "        -4.76185369e+00, -4.51243490e-01,  2.81858015e+00,\n",
       "         2.61934137e+00, -2.06194997e-01,  2.71929407e+00,\n",
       "         1.10731947e+00,  4.17172849e-01,  2.68461609e+00,\n",
       "         1.02589977e+00, -3.44756603e+00, -4.68019581e+00,\n",
       "        -2.20583057e+00, -5.16577482e+00, -9.86793804e+00,\n",
       "        -4.13493156e+00,  2.55920720e+00]], dtype=float32)"
      ]
     },
     "execution_count": 8,
     "metadata": {},
     "output_type": "execute_result"
    }
   ],
   "source": [
    "example_features_on"
   ]
  },
  {
   "cell_type": "code",
   "execution_count": 9,
   "id": "willing-intranet",
   "metadata": {},
   "outputs": [
    {
     "data": {
      "text/plain": [
       "(20, 44)"
      ]
     },
     "execution_count": 9,
     "metadata": {},
     "output_type": "execute_result"
    }
   ],
   "source": [
    "example_features_on.shape"
   ]
  },
  {
   "cell_type": "code",
   "execution_count": 10,
   "id": "maritime-transport",
   "metadata": {},
   "outputs": [
    {
     "data": {
      "text/plain": [
       "(20, 44)"
      ]
     },
     "execution_count": 10,
     "metadata": {},
     "output_type": "execute_result"
    }
   ],
   "source": [
    "example_features_off.shape"
   ]
  },
  {
   "cell_type": "code",
   "execution_count": 11,
   "id": "chief-mailing",
   "metadata": {},
   "outputs": [
    {
     "data": {
      "image/png": "[encoded data removed]",
      "text/plain": [
       "<Figure size 1080x720 with 2 Axes>"
      ]
     },
     "metadata": {
      "needs_background": "light"
     },
     "output_type": "display_data"
    },
    {
     "data": {
      "image/png": "[encoded data removed]",
      "text/plain": [
       "<Figure size 1080x720 with 2 Axes>"
      ]
     },
     "metadata": {
      "needs_background": "light"
     },
     "output_type": "display_data"
    },
    {
     "data": {
      "image/png": "[encoded data removed]",
      "text/plain": [
       "<Figure size 1080x720 with 2 Axes>"
      ]
     },
     "metadata": {
      "needs_background": "light"
     },
     "output_type": "display_data"
    }
   ],
   "source": [
    "plt.figure(figsize=(15,10))\n",
    "librosa.display.specshow(example_features_on, x_axis='time', sr=sampling_rate_on)\n",
    "plt.colorbar(format='%2f')\n",
    "plt.show()\n",
    "\n",
    "plt.figure(figsize=(15,10))\n",
    "librosa.display.specshow(example_features_off, x_axis='time', sr=sampling_rate_off)\n",
    "plt.colorbar(format='%2f')\n",
    "plt.show()\n",
    "\n",
    "plt.figure(figsize=(15,10))\n",
    "librosa.display.specshow(example_features_other, x_axis='time', sr=sampling_rate_other)\n",
    "plt.colorbar(format='%2f')\n",
    "plt.show()"
   ]
  },
  {
   "cell_type": "code",
   "execution_count": 12,
   "id": "diverse-architecture",
   "metadata": {},
   "outputs": [],
   "source": [
    "x_shape = example_features_on.shape"
   ]
  },
  {
   "cell_type": "code",
   "execution_count": 13,
   "id": "favorite-guatemala",
   "metadata": {},
   "outputs": [
    {
     "data": {
      "text/plain": [
       "(20, 44)"
      ]
     },
     "execution_count": 13,
     "metadata": {},
     "output_type": "execute_result"
    }
   ],
   "source": [
    "x_shape"
   ]
  },
  {
   "cell_type": "code",
   "execution_count": 14,
   "id": "attached-cotton",
   "metadata": {},
   "outputs": [],
   "source": [
    "training_set_size = sum([len(os.listdir(os.path.join(training_set_dir,dir_))) for dir_ in os.listdir(training_set_dir)])\n",
    "dev_set_size = sum([len(os.listdir(os.path.join(dev_set_dir,dir_))) for dir_ in os.listdir(dev_set_dir)])\n",
    "test_set_size = sum([len(os.listdir(os.path.join(test_set_dir,dir_))) for dir_ in os.listdir(test_set_dir)])"
   ]
  },
  {
   "cell_type": "code",
   "execution_count": 15,
   "id": "cordless-ability",
   "metadata": {},
   "outputs": [
    {
     "data": {
      "text/plain": [
       "41849"
      ]
     },
     "execution_count": 15,
     "metadata": {},
     "output_type": "execute_result"
    }
   ],
   "source": [
    "training_set_size"
   ]
  },
  {
   "cell_type": "code",
   "execution_count": 16,
   "id": "relevant-anderson",
   "metadata": {},
   "outputs": [
    {
     "data": {
      "text/plain": [
       "20922"
      ]
     },
     "execution_count": 16,
     "metadata": {},
     "output_type": "execute_result"
    }
   ],
   "source": [
    "dev_set_size"
   ]
  },
  {
   "cell_type": "code",
   "execution_count": 17,
   "id": "cardiac-ocean",
   "metadata": {},
   "outputs": [
    {
     "data": {
      "text/plain": [
       "20927"
      ]
     },
     "execution_count": 17,
     "metadata": {},
     "output_type": "execute_result"
    }
   ],
   "source": [
    "test_set_size"
   ]
  },
  {
   "cell_type": "code",
   "execution_count": 18,
   "id": "sealed-employment",
   "metadata": {},
   "outputs": [],
   "source": [
    "class_labels = {\n",
    "    'on': 0,\n",
    "    'off': 1,\n",
    "    'left': 2,\n",
    "    'right': 3,\n",
    "    'up': 4,\n",
    "    'down': 5,\n",
    "    'zero': 6,\n",
    "    'one': 7,\n",
    "    'two': 8,\n",
    "    'three': 9,\n",
    "    'four': 10,\n",
    "    'five': 11,\n",
    "    'six': 12,\n",
    "    'seven': 13,\n",
    "    'eight': 14,\n",
    "    'nine': 15,\n",
    "    'other': 16\n",
    "}"
   ]
  },
  {
   "cell_type": "code",
   "execution_count": 19,
   "id": "vocational-packet",
   "metadata": {},
   "outputs": [],
   "source": [
    "def convert_label_to_one_hot(label):\n",
    "    vec = np.zeros(17)\n",
    "    vec[label] = 1\n",
    "    return vec"
   ]
  },
  {
   "cell_type": "code",
   "execution_count": 20,
   "id": "portable-trade",
   "metadata": {},
   "outputs": [],
   "source": [
    "def preprocess_set(set_dir):\n",
    "    features = list()\n",
    "    labels = list()\n",
    "    class_dirs = [\n",
    "        'on', 'off', 'left', 'right', 'up', 'down',\n",
    "        'zero', 'one', 'two', 'three', 'four', 'five',\n",
    "        'six', 'seven', 'eight', 'nine', 'other'\n",
    "    ]\n",
    "    for class_ in class_dirs:\n",
    "        class_dir = os.path.join(set_dir, class_)\n",
    "        files = os.listdir(class_dir)\n",
    "        for file in files:\n",
    "            full_filename = os.path.join(class_dir, file)\n",
    "            mfcc, _ = extract_mfcc_features(full_filename, n_mfccs=N_MFCCS)\n",
    "            features.append(mfcc)\n",
    "        oh = convert_label_to_one_hot(class_labels[class_])\n",
    "        labels += [oh for file in files]\n",
    "    return np.stack(features), np.stack(labels)"
   ]
  },
  {
   "cell_type": "code",
   "execution_count": 21,
   "id": "incredible-program",
   "metadata": {},
   "outputs": [],
   "source": [
    "training_set = preprocess_set(training_set_dir)"
   ]
  },
  {
   "cell_type": "code",
   "execution_count": 22,
   "id": "corresponding-packet",
   "metadata": {},
   "outputs": [],
   "source": [
    "training_set_features, training_set_labels = training_set"
   ]
  },
  {
   "cell_type": "code",
   "execution_count": 23,
   "id": "imposed-andrew",
   "metadata": {},
   "outputs": [
    {
     "data": {
      "text/plain": [
       "(41849, 17)"
      ]
     },
     "execution_count": 23,
     "metadata": {},
     "output_type": "execute_result"
    }
   ],
   "source": [
    "training_set_labels.shape"
   ]
  },
  {
   "cell_type": "code",
   "execution_count": 24,
   "id": "turned-passion",
   "metadata": {},
   "outputs": [
    {
     "data": {
      "text/plain": [
       "(41849, 20, 44)"
      ]
     },
     "execution_count": 24,
     "metadata": {},
     "output_type": "execute_result"
    }
   ],
   "source": [
    "training_set_features.shape"
   ]
  },
  {
   "cell_type": "code",
   "execution_count": 25,
   "id": "senior-threat",
   "metadata": {},
   "outputs": [],
   "source": [
    "dev_set = preprocess_set(dev_set_dir)\n",
    "test_set = preprocess_set(test_set_dir)"
   ]
  },
  {
   "cell_type": "code",
   "execution_count": 26,
   "id": "informational-upper",
   "metadata": {},
   "outputs": [],
   "source": [
    "dev_set_features, dev_set_labels = dev_set"
   ]
  },
  {
   "cell_type": "code",
   "execution_count": 27,
   "id": "crucial-fruit",
   "metadata": {},
   "outputs": [
    {
     "data": {
      "text/plain": [
       "(20922, 20, 44)"
      ]
     },
     "execution_count": 27,
     "metadata": {},
     "output_type": "execute_result"
    }
   ],
   "source": [
    "dev_set_features.shape"
   ]
  },
  {
   "cell_type": "code",
   "execution_count": 28,
   "id": "ordered-testimony",
   "metadata": {},
   "outputs": [
    {
     "data": {
      "text/plain": [
       "(20922, 17)"
      ]
     },
     "execution_count": 28,
     "metadata": {},
     "output_type": "execute_result"
    }
   ],
   "source": [
    "dev_set_labels.shape"
   ]
  },
  {
   "cell_type": "code",
   "execution_count": 29,
   "id": "continuing-postcard",
   "metadata": {},
   "outputs": [
    {
     "data": {
      "text/plain": [
       "array([[1., 0., 0., ..., 0., 0., 0.],\n",
       "       [1., 0., 0., ..., 0., 0., 0.],\n",
       "       [1., 0., 0., ..., 0., 0., 0.],\n",
       "       ...,\n",
       "       [0., 0., 0., ..., 0., 0., 1.],\n",
       "       [0., 0., 0., ..., 0., 0., 1.],\n",
       "       [0., 0., 0., ..., 0., 0., 1.]])"
      ]
     },
     "execution_count": 29,
     "metadata": {},
     "output_type": "execute_result"
    }
   ],
   "source": [
    "dev_set_labels"
   ]
  },
  {
   "cell_type": "code",
   "execution_count": 30,
   "id": "competitive-topic",
   "metadata": {},
   "outputs": [],
   "source": [
    "test_set_features, test_set_labels = test_set"
   ]
  },
  {
   "cell_type": "code",
   "execution_count": 31,
   "id": "jewish-officer",
   "metadata": {},
   "outputs": [
    {
     "data": {
      "text/plain": [
       "(20927, 20, 44)"
      ]
     },
     "execution_count": 31,
     "metadata": {},
     "output_type": "execute_result"
    }
   ],
   "source": [
    "test_set_features.shape"
   ]
  },
  {
   "cell_type": "code",
   "execution_count": 32,
   "id": "republican-dynamics",
   "metadata": {},
   "outputs": [
    {
     "data": {
      "text/plain": [
       "(20927, 17)"
      ]
     },
     "execution_count": 32,
     "metadata": {},
     "output_type": "execute_result"
    }
   ],
   "source": [
    "test_set_labels.shape"
   ]
  },
  {
   "cell_type": "code",
   "execution_count": 33,
   "id": "visible-sixth",
   "metadata": {},
   "outputs": [],
   "source": [
    "np.save('training-features', training_set_features)\n",
    "np.save('training-labels', training_set_labels)\n",
    "np.save('dev-features', dev_set_features)\n",
    "np.save('dev-labels', dev_set_labels)\n",
    "np.save('test-features', test_set_features)\n",
    "np.save('test-labels', test_set_labels)"
   ]
  },
  {
   "cell_type": "code",
   "execution_count": null,
   "id": "attractive-insight",
   "metadata": {},
   "outputs": [],
   "source": []
  }
 ],
 "metadata": {
  "kernelspec": {
   "display_name": "Python 3",
   "language": "python",
   "name": "python3"
  },
  "language_info": {
   "codemirror_mode": {
    "name": "ipython",
    "version": 3
   },
   "file_extension": ".py",
   "mimetype": "text/x-python",
   "name": "python",
   "nbconvert_exporter": "python",
   "pygments_lexer": "ipython3",
   "version": "3.8.8"
  }
 },
 "nbformat": 4,
 "nbformat_minor": 5
}
