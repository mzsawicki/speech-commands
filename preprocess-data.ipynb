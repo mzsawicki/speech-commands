{
 "cells": [
  {
   "cell_type": "code",
   "execution_count": 26,
   "id": "cordless-nerve",
   "metadata": {},
   "outputs": [],
   "source": [
    "import os\n",
    "import librosa\n",
    "import librosa.display\n",
    "import matplotlib.pyplot as plt\n",
    "import numpy as np"
   ]
  },
  {
   "cell_type": "code",
   "execution_count": 27,
   "id": "indian-architecture",
   "metadata": {},
   "outputs": [],
   "source": [
    "N_MFCCS=20"
   ]
  },
  {
   "cell_type": "code",
   "execution_count": 28,
   "id": "virgin-nerve",
   "metadata": {},
   "outputs": [],
   "source": [
    "def extract_mfcc_features(file, n_mfccs=10):\n",
    "    signal, sampling_rate = librosa.load(file)\n",
    "    mfcc = librosa.feature.mfcc(signal, n_mfcc=n_mfccs, sr=sampling_rate)\n",
    "    return mfcc, sampling_rate"
   ]
  },
  {
   "cell_type": "code",
   "execution_count": 29,
   "id": "nearby-copper",
   "metadata": {},
   "outputs": [],
   "source": [
    "training_set_dir = os.path.join('data', 'train-set')\n",
    "dev_set_dir = os.path.join('data', 'dev-set')\n",
    "test_set_dir = os.path.join('data', 'test-set')"
   ]
  },
  {
   "cell_type": "code",
   "execution_count": 30,
   "id": "existing-plymouth",
   "metadata": {},
   "outputs": [],
   "source": [
    "dev_set_dir_on = os.path.join(dev_set_dir, 'on')\n",
    "dev_set_dir_off = os.path.join(dev_set_dir, 'off')\n",
    "dev_set_dir_other = os.path.join(dev_set_dir, 'other')\n",
    "\n",
    "example_file_on = os.path.join(dev_set_dir_on, np.random.choice(os.listdir(dev_set_dir_on)))\n",
    "example_file_off = os.path.join(dev_set_dir_off, np.random.choice(os.listdir(dev_set_dir_off)))\n",
    "example_file_other = os.path.join(dev_set_dir_other, np.random.choice(os.listdir(dev_set_dir_other)))"
   ]
  },
  {
   "cell_type": "code",
   "execution_count": 31,
   "id": "sonic-controversy",
   "metadata": {},
   "outputs": [],
   "source": [
    "example_features_on, sampling_rate_on = extract_mfcc_features(example_file_on, n_mfccs=N_MFCCS)\n",
    "example_features_off, sampling_rate_off = extract_mfcc_features(example_file_off, n_mfccs=N_MFCCS)\n",
    "example_features_other, sampling_rate_other = extract_mfcc_features(example_file_other, n_mfccs=N_MFCCS)"
   ]
  },
  {
   "cell_type": "code",
   "execution_count": 32,
   "id": "boolean-ethernet",
   "metadata": {},
   "outputs": [
    {
     "data": {
      "text/plain": [
       "22050"
      ]
     },
     "execution_count": 32,
     "metadata": {},
     "output_type": "execute_result"
    }
   ],
   "source": [
    "sampling_rate_on"
   ]
  },
  {
   "cell_type": "code",
   "execution_count": 33,
   "id": "organizational-edinburgh",
   "metadata": {},
   "outputs": [
    {
     "data": {
      "text/plain": [
       "array([[-4.56377869e+02, -4.56840179e+02, -4.58267578e+02,\n",
       "        -4.56600464e+02, -4.53495300e+02, -4.53563690e+02,\n",
       "        -4.51006897e+02, -4.50701935e+02, -4.54136566e+02,\n",
       "        -4.42165283e+02, -4.30945709e+02, -4.20992584e+02,\n",
       "        -4.18968048e+02, -4.16289246e+02, -4.16125549e+02,\n",
       "        -4.19129547e+02, -4.23947784e+02, -4.32147461e+02,\n",
       "        -4.39526428e+02, -4.38303009e+02, -4.39359100e+02,\n",
       "        -4.39519501e+02, -4.42358612e+02, -4.48576416e+02,\n",
       "        -4.54005371e+02, -4.56466858e+02, -4.58469543e+02,\n",
       "        -4.59599030e+02, -4.55613953e+02, -4.53321289e+02,\n",
       "        -4.58000793e+02, -4.58679840e+02, -4.58915924e+02,\n",
       "        -4.56648560e+02, -4.53537018e+02, -4.49057861e+02,\n",
       "        -4.49879730e+02, -4.51865662e+02, -4.45768402e+02,\n",
       "        -4.42802124e+02, -4.49886597e+02, -4.59337067e+02,\n",
       "        -4.43049225e+02, -4.21601715e+02],\n",
       "       [ 2.42568329e+02,  2.45811371e+02,  2.47630585e+02,\n",
       "         2.51947418e+02,  2.51742172e+02,  2.46781952e+02,\n",
       "         2.49423737e+02,  2.55210480e+02,  2.52443954e+02,\n",
       "         2.56291962e+02,  2.53534775e+02,  2.52842560e+02,\n",
       "         2.53435791e+02,  2.54096161e+02,  2.53423401e+02,\n",
       "         2.51678833e+02,  2.48787613e+02,  2.39423706e+02,\n",
       "         2.40863464e+02,  2.41341949e+02,  2.39349701e+02,\n",
       "         2.38921844e+02,  2.41411362e+02,  2.42741882e+02,\n",
       "         2.48272995e+02,  2.45877563e+02,  2.44441498e+02,\n",
       "         2.49958847e+02,  2.53244690e+02,  2.53082336e+02,\n",
       "         2.49461853e+02,  2.47700089e+02,  2.46648987e+02,\n",
       "         2.48202591e+02,  2.49706177e+02,  2.52306000e+02,\n",
       "         2.51456421e+02,  2.47657181e+02,  2.50824829e+02,\n",
       "         2.52780121e+02,  2.47814362e+02,  2.45112259e+02,\n",
       "         2.32547058e+02,  2.08208832e+02],\n",
       "       [-4.84567909e+01, -5.21867752e+01, -5.22219086e+01,\n",
       "        -4.98258667e+01, -5.16050797e+01, -5.57352943e+01,\n",
       "        -5.36692772e+01, -4.72848625e+01, -4.74107056e+01,\n",
       "        -4.74538498e+01, -4.84649811e+01, -4.93994293e+01,\n",
       "        -4.74422989e+01, -4.39152489e+01, -4.61291008e+01,\n",
       "        -3.99144211e+01, -4.43640900e+01, -5.08303947e+01,\n",
       "        -4.63461838e+01, -4.68133698e+01, -4.76979103e+01,\n",
       "        -4.97185593e+01, -4.92149200e+01, -4.99370728e+01,\n",
       "        -4.93491554e+01, -5.25336609e+01, -5.42402725e+01,\n",
       "        -4.77188339e+01, -4.56921692e+01, -4.56505928e+01,\n",
       "        -4.95773354e+01, -5.33843880e+01, -5.22332573e+01,\n",
       "        -5.39225464e+01, -5.69072189e+01, -5.74752197e+01,\n",
       "        -5.50862961e+01, -5.45421829e+01, -5.70107231e+01,\n",
       "        -5.93242455e+01, -5.80266724e+01, -5.29393234e+01,\n",
       "        -3.62285690e+01, -1.90387611e+01],\n",
       "       [ 2.70139046e+01,  2.52320442e+01,  2.46098289e+01,\n",
       "         1.95296803e+01,  1.97560196e+01,  2.55722103e+01,\n",
       "         2.91359730e+01,  2.67733040e+01,  2.62556572e+01,\n",
       "         1.93663559e+01,  1.09096832e+01,  9.87269974e+00,\n",
       "         1.01140223e+01,  1.15650272e+01,  8.13967133e+00,\n",
       "         1.97516441e+01,  2.20851173e+01,  2.25155773e+01,\n",
       "         2.67290554e+01,  2.86034775e+01,  2.84735832e+01,\n",
       "         2.87594948e+01,  2.81957436e+01,  2.97599831e+01,\n",
       "         2.64510536e+01,  2.36572075e+01,  2.25929794e+01,\n",
       "         1.86731129e+01,  2.27763901e+01,  2.62314873e+01,\n",
       "         2.06770363e+01,  1.49636393e+01,  2.07397423e+01,\n",
       "         1.95671024e+01,  1.81810226e+01,  1.94914799e+01,\n",
       "         2.27577248e+01,  2.84223385e+01,  2.70343475e+01,\n",
       "         2.48991203e+01,  2.34180546e+01,  2.17106438e+01,\n",
       "         2.42703972e+01,  2.37628784e+01],\n",
       "       [ 3.00540009e+01,  3.83489456e+01,  4.70544968e+01,\n",
       "         4.09101715e+01,  3.71586227e+01,  4.09753227e+01,\n",
       "         4.48682632e+01,  4.29752502e+01,  4.23327179e+01,\n",
       "         3.17065620e+01,  2.25136623e+01,  1.55905495e+01,\n",
       "         1.46977711e+01,  1.08574257e+01,  7.68935776e+00,\n",
       "         1.54735985e+01,  2.52126122e+01,  2.85188637e+01,\n",
       "         3.40471725e+01,  3.31957321e+01,  2.94134369e+01,\n",
       "         3.10709763e+01,  3.16519394e+01,  3.48601532e+01,\n",
       "         3.52077217e+01,  3.59277725e+01,  3.76043091e+01,\n",
       "         3.29283714e+01,  3.35961456e+01,  3.75754280e+01,\n",
       "         3.75449677e+01,  3.31243744e+01,  3.93617401e+01,\n",
       "         4.14122887e+01,  4.17483368e+01,  4.37555008e+01,\n",
       "         4.31241531e+01,  4.26006775e+01,  3.94949417e+01,\n",
       "         4.05790749e+01,  4.00307999e+01,  3.85672417e+01,\n",
       "         3.76321259e+01,  3.70956039e+01],\n",
       "       [-2.84015427e+01, -2.86662483e+01, -2.06149368e+01,\n",
       "        -2.29829407e+01, -2.49477043e+01, -2.67067089e+01,\n",
       "        -2.68279610e+01, -2.35892601e+01, -2.47954941e+01,\n",
       "        -3.36167030e+01, -3.77426147e+01, -4.58817329e+01,\n",
       "        -5.15580750e+01, -5.12241440e+01, -5.06182556e+01,\n",
       "        -4.73297729e+01, -4.11652222e+01, -2.52144852e+01,\n",
       "        -1.78747749e+01, -1.74688606e+01, -2.12237778e+01,\n",
       "        -2.08303642e+01, -2.14659805e+01, -2.55596657e+01,\n",
       "        -2.82026520e+01, -2.70158958e+01, -2.62212696e+01,\n",
       "        -2.87658195e+01, -3.33623543e+01, -2.85402031e+01,\n",
       "        -2.41722565e+01, -2.41777725e+01, -2.14168739e+01,\n",
       "        -2.09783688e+01, -2.58078060e+01, -2.54501534e+01,\n",
       "        -2.57061119e+01, -3.07867966e+01, -3.39477615e+01,\n",
       "        -3.09602985e+01, -2.64716415e+01, -2.45574398e+01,\n",
       "        -2.55515289e+01, -2.14963055e+01],\n",
       "       [ 1.72920589e+01,  1.60483971e+01,  1.87300758e+01,\n",
       "         1.67092438e+01,  1.99695816e+01,  2.02186928e+01,\n",
       "         1.71857777e+01,  1.81127396e+01,  1.58058996e+01,\n",
       "         1.43265362e+01,  1.07658062e+01,  9.70573711e+00,\n",
       "         9.82229042e+00,  1.34045925e+01,  1.37594280e+01,\n",
       "         1.13973770e+01,  1.25707378e+01,  1.44311314e+01,\n",
       "         1.41552439e+01,  2.03842373e+01,  1.98295021e+01,\n",
       "         2.00231628e+01,  2.34348850e+01,  1.95455227e+01,\n",
       "         1.76821213e+01,  2.04532185e+01,  2.13884621e+01,\n",
       "         1.53461142e+01,  1.62570438e+01,  2.04565125e+01,\n",
       "         2.21955338e+01,  2.01564579e+01,  2.08976402e+01,\n",
       "         1.93700333e+01,  1.35824814e+01,  1.39136963e+01,\n",
       "         1.65486183e+01,  1.73594322e+01,  1.75391998e+01,\n",
       "         1.80946617e+01,  1.90033913e+01,  1.88392735e+01,\n",
       "         2.13012505e+01,  2.26447773e+01],\n",
       "       [ 1.49626074e+01,  1.33295736e+01,  1.65070953e+01,\n",
       "         1.75208530e+01,  1.71197796e+01,  1.45790882e+01,\n",
       "         1.32922020e+01,  1.21842279e+01,  1.10453777e+01,\n",
       "         1.92079601e+01,  2.66490116e+01,  3.42173386e+01,\n",
       "         4.47814445e+01,  4.91528625e+01,  4.76619453e+01,\n",
       "         4.24844589e+01,  3.50146332e+01,  2.14684200e+01,\n",
       "         1.35534191e+01,  1.60474091e+01,  1.94232979e+01,\n",
       "         1.80536079e+01,  1.75624809e+01,  1.47624216e+01,\n",
       "         1.12151604e+01,  1.33534393e+01,  1.64620171e+01,\n",
       "         1.18528404e+01,  1.98287849e+01,  2.36007195e+01,\n",
       "         1.96269684e+01,  1.34719543e+01,  1.42517071e+01,\n",
       "         1.69939957e+01,  1.63970432e+01,  1.68581409e+01,\n",
       "         1.84891243e+01,  1.77088127e+01,  1.57422705e+01,\n",
       "         1.49545155e+01,  1.55632687e+01,  1.63668556e+01,\n",
       "         1.83928661e+01,  1.80783424e+01],\n",
       "       [-1.58626328e+01, -1.76792240e+01, -1.44209080e+01,\n",
       "        -9.22471046e+00, -1.52816162e+01, -1.63261623e+01,\n",
       "        -1.52663012e+01, -1.76089401e+01, -1.84396000e+01,\n",
       "        -1.85880184e+01, -2.16093273e+01, -2.36302643e+01,\n",
       "        -1.98135948e+01, -1.93243256e+01, -1.83770485e+01,\n",
       "        -2.25519867e+01, -2.91884365e+01, -2.81548119e+01,\n",
       "        -2.04443359e+01, -1.78006744e+01, -1.56879711e+01,\n",
       "        -1.57606735e+01, -1.85014038e+01, -1.52862682e+01,\n",
       "        -1.42167416e+01, -1.79189548e+01, -1.58598595e+01,\n",
       "        -1.74896526e+01, -1.17891846e+01, -8.13436890e+00,\n",
       "        -1.50692368e+01, -1.55726452e+01, -1.38573246e+01,\n",
       "        -1.17564564e+01, -9.18437099e+00, -9.60661507e+00,\n",
       "        -1.12292519e+01, -1.83915482e+01, -1.94015884e+01,\n",
       "        -1.65262623e+01, -1.52598915e+01, -1.24401255e+01,\n",
       "        -1.07396412e+01, -2.35054660e+00],\n",
       "       [ 8.97426796e+00,  1.43350506e+01,  1.60186729e+01,\n",
       "         1.76782722e+01,  1.13131485e+01,  1.71132526e+01,\n",
       "         1.89804039e+01,  1.46093359e+01,  1.46984692e+01,\n",
       "         2.03153572e+01,  2.67016258e+01,  2.82340355e+01,\n",
       "         3.44001846e+01,  3.47884483e+01,  3.42399597e+01,\n",
       "         3.14752045e+01,  2.86624126e+01,  1.71181221e+01,\n",
       "         2.34640312e+01,  2.95503807e+01,  2.78573303e+01,\n",
       "         2.76080360e+01,  2.20281715e+01,  2.25811539e+01,\n",
       "         1.86116371e+01,  1.67246971e+01,  1.61311531e+01,\n",
       "         1.38673229e+01,  1.62791042e+01,  1.96947594e+01,\n",
       "         1.45420513e+01,  1.72527866e+01,  1.98533707e+01,\n",
       "         1.55516434e+01,  1.69427986e+01,  1.65639248e+01,\n",
       "         1.61886406e+01,  1.53869972e+01,  1.90110779e+01,\n",
       "         1.93182793e+01,  1.57004080e+01,  1.77482662e+01,\n",
       "         2.10303879e+01,  2.15364342e+01],\n",
       "       [ 5.17224884e+00,  6.22117186e+00,  6.97055817e+00,\n",
       "         6.34957695e+00,  5.14835262e+00,  6.51612663e+00,\n",
       "         4.66625834e+00,  3.02389050e+00,  4.41365671e+00,\n",
       "         6.09438467e+00,  1.94680476e+00, -1.10832775e+00,\n",
       "         6.66771173e-01,  5.99172413e-01,  4.26028585e+00,\n",
       "         2.50052357e+00,  1.46846962e+00, -3.28986502e+00,\n",
       "        -3.53300452e+00, -3.87245703e+00, -5.54045773e+00,\n",
       "        -4.85792255e+00, -6.13749027e+00,  5.23615658e-01,\n",
       "         3.76337576e+00,  4.35950661e+00,  1.95087063e+00,\n",
       "         3.90941143e+00,  5.41336632e+00,  4.81524086e+00,\n",
       "         5.02173615e+00,  7.28461552e+00,  8.52353764e+00,\n",
       "         5.51985073e+00,  2.21963573e+00, -1.44404244e+00,\n",
       "         9.25478339e-01,  5.02449226e+00,  8.20298290e+00,\n",
       "         8.26258183e+00,  4.18347645e+00,  3.96680450e+00,\n",
       "         5.18394113e-01, -4.76164150e+00],\n",
       "       [-8.02925968e+00, -9.23343754e+00, -8.26616192e+00,\n",
       "        -6.23833275e+00, -2.88319206e+00, -3.02352762e+00,\n",
       "        -9.52703667e+00, -1.21896973e+01, -1.11912270e+01,\n",
       "        -1.02964010e+01, -9.54222679e+00, -9.78493881e+00,\n",
       "        -1.00825634e+01, -1.34083052e+01, -8.91014671e+00,\n",
       "        -1.29093275e+01, -1.18843136e+01, -3.70317245e+00,\n",
       "         1.48571599e+00,  1.52297664e+00, -1.04699969e+00,\n",
       "        -2.79720497e+00, -3.71144104e+00, -3.52752686e+00,\n",
       "        -7.30069733e+00, -1.08651552e+01, -1.26635838e+01,\n",
       "        -7.48475552e+00, -8.16804218e+00, -1.11632805e+01,\n",
       "        -1.10975685e+01, -7.27798128e+00, -3.91806459e+00,\n",
       "        -4.34770107e+00, -8.36322594e+00, -1.32161980e+01,\n",
       "        -1.42749109e+01, -1.27069664e+01, -1.21718836e+01,\n",
       "        -7.53965187e+00, -7.77427387e+00, -1.12642527e+01,\n",
       "        -5.94498539e+00, -5.84962273e+00],\n",
       "       [ 8.92643356e+00,  1.30457344e+01,  1.38975964e+01,\n",
       "         1.44625435e+01,  1.56735954e+01,  1.90295296e+01,\n",
       "         1.55340176e+01,  1.05204582e+01,  1.19167004e+01,\n",
       "         1.14709663e+01,  1.27139082e+01,  9.32469749e+00,\n",
       "         1.23939896e+01,  5.63737106e+00,  4.35406780e+00,\n",
       "         5.53917503e+00,  1.03393116e+01,  1.48883705e+01,\n",
       "         1.62245998e+01,  2.10664406e+01,  2.07409039e+01,\n",
       "         1.92574272e+01,  1.81347427e+01,  1.75182705e+01,\n",
       "         1.34970760e+01,  1.21940365e+01,  1.52246799e+01,\n",
       "         1.95849228e+01,  1.65916824e+01,  1.68367691e+01,\n",
       "         1.57535934e+01,  1.48674345e+01,  2.01964092e+01,\n",
       "         1.82433834e+01,  1.60414257e+01,  1.69674339e+01,\n",
       "         1.58660126e+01,  1.70249844e+01,  1.59535999e+01,\n",
       "         1.64001904e+01,  1.92087135e+01,  1.98856354e+01,\n",
       "         1.11800241e+01,  5.88543987e+00],\n",
       "       [ 4.01062489e+00,  4.05973053e+00,  1.30461562e+00,\n",
       "        -2.16299009e+00, -4.97265625e+00, -4.53429604e+00,\n",
       "        -2.14966822e+00, -2.00103498e+00, -8.03514481e-01,\n",
       "         2.34193277e+00,  5.29782248e+00,  3.84137416e+00,\n",
       "         6.82041931e+00, -5.55111051e-01, -1.34577322e+00,\n",
       "         3.79893351e+00,  5.52874470e+00,  2.02979374e+00,\n",
       "        -1.03055153e+01, -1.14068031e+01, -1.47206030e+01,\n",
       "        -9.87144184e+00, -7.85800743e+00, -8.70080185e+00,\n",
       "        -5.45436001e+00, -3.61916518e+00, -2.69736886e+00,\n",
       "         2.46442652e+00,  3.45560575e+00,  1.86400938e+00,\n",
       "         4.05230427e+00,  3.78039271e-01,  1.50398552e+00,\n",
       "         3.16424131e-01, -1.84127986e+00,  1.66682363e+00,\n",
       "         5.81418228e+00,  5.51593351e+00,  4.59182739e+00,\n",
       "         1.98636532e-01, -1.82605892e-01,  8.02436733e+00,\n",
       "         1.24785442e+01,  1.02640591e+01],\n",
       "       [-2.04196155e-01, -8.87247682e-01, -3.89741516e+00,\n",
       "        -7.42548561e+00, -1.12646351e+01, -7.27050066e+00,\n",
       "        -3.81151962e+00, -1.48939383e+00, -3.62832642e+00,\n",
       "        -2.24899006e+00,  3.70408249e+00,  7.97103024e+00,\n",
       "         8.56101608e+00,  4.73361063e+00,  3.13869143e+00,\n",
       "         6.07078123e+00,  6.97262192e+00,  7.46997833e+00,\n",
       "         9.22042084e+00,  7.73616886e+00,  2.14764833e+00,\n",
       "         4.80664682e+00,  2.95587564e+00, -5.11949825e+00,\n",
       "        -8.51753044e+00, -8.59496975e+00, -1.28839054e+01,\n",
       "        -8.11006546e+00, -4.22520936e-01, -2.44017506e+00,\n",
       "        -2.88436842e+00, -4.76951551e+00, -6.53586197e+00,\n",
       "        -4.78308582e+00, -4.41414356e+00, -5.43664408e+00,\n",
       "        -2.38264632e+00, -5.66396141e+00, -4.09282637e+00,\n",
       "        -3.85596991e+00, -6.89834547e+00, -4.56564999e+00,\n",
       "        -7.67169356e-01, -2.71744180e+00],\n",
       "       [ 1.29899883e+01,  1.31595993e+01,  1.31847439e+01,\n",
       "         1.16487122e+01,  9.28253365e+00,  1.57681513e+01,\n",
       "         1.94735527e+01,  2.07761726e+01,  1.58713531e+01,\n",
       "         1.02130919e+01,  7.44500446e+00,  5.02415323e+00,\n",
       "         3.27617621e+00, -6.65448070e-01,  1.47922575e+00,\n",
       "         7.17000246e-01,  2.01117992e+00,  3.41141701e+00,\n",
       "         6.03109789e+00,  2.17562270e+00, -4.99637938e+00,\n",
       "        -3.34367371e+00,  1.13479543e+00,  3.74965501e+00,\n",
       "         9.24004650e+00,  6.65806484e+00,  8.31787682e+00,\n",
       "         1.32678385e+01,  1.81753273e+01,  2.02398415e+01,\n",
       "         1.83565369e+01,  1.33796291e+01,  1.03264370e+01,\n",
       "         1.46994276e+01,  1.94350433e+01,  1.52575169e+01,\n",
       "         1.24215298e+01,  1.06387548e+01,  1.43702965e+01,\n",
       "         1.84016914e+01,  1.76310005e+01,  1.19841089e+01,\n",
       "         8.96854401e+00,  4.79970407e+00],\n",
       "       [ 4.80654144e+00, -8.18532705e-02, -1.27835989e+00,\n",
       "        -1.28216147e+00, -2.21522951e+00, -3.24121070e+00,\n",
       "        -2.50458670e+00,  1.97761011e+00, -1.52665734e-01,\n",
       "        -1.71001107e-01,  7.30261898e+00,  1.10778160e+01,\n",
       "         9.42185497e+00,  3.48257470e+00,  5.53279066e+00,\n",
       "         7.30501366e+00,  8.78578568e+00,  3.57373357e+00,\n",
       "         4.81712341e+00,  1.73803830e+00, -1.91202831e+00,\n",
       "        -1.10032654e+00,  4.96880025e-01,  1.44205832e+00,\n",
       "         5.01368165e-01, -6.23343754e+00, -1.40264201e+00,\n",
       "         1.63145351e+00,  7.10484266e-01,  3.59142780e+00,\n",
       "         3.35783815e+00, -3.48676205e+00, -8.45221806e+00,\n",
       "        -5.04159069e+00,  4.53818417e+00,  3.81242681e+00,\n",
       "        -8.73803735e-01, -1.83176184e+00,  1.88796163e+00,\n",
       "         3.52022696e+00,  2.19004035e+00,  1.35715997e+00,\n",
       "         2.75137246e-01,  4.23672080e-01],\n",
       "       [-3.65218663e+00, -5.21431828e+00, -2.05208588e+00,\n",
       "        -5.05767643e-01, -1.72050810e+00, -3.51768661e+00,\n",
       "        -9.44713879e+00, -5.40025806e+00, -4.46380615e+00,\n",
       "        -9.51271057e+00, -1.27433205e+01, -1.33011589e+01,\n",
       "        -1.83845520e+01, -2.46919785e+01, -2.59693680e+01,\n",
       "        -1.87731514e+01, -1.37413568e+01, -7.78591299e+00,\n",
       "         2.80633736e+00,  1.64564836e+00,  3.03101778e+00,\n",
       "         5.00108671e+00,  4.32437134e+00,  5.58360577e+00,\n",
       "         2.97399712e+00, -1.49867916e+00,  8.94320011e-02,\n",
       "        -9.19188797e-01, -2.22551656e+00, -2.72974849e+00,\n",
       "        -3.10731840e+00, -5.38988590e+00, -7.40811062e+00,\n",
       "        -7.94959641e+00, -2.82485366e+00,  5.01060486e-01,\n",
       "         2.00315833e-01, -6.16799545e+00, -1.82615948e+00,\n",
       "         8.64541531e-02,  2.10088998e-01,  3.80941463e+00,\n",
       "         1.68773735e+00,  6.56118870e-01],\n",
       "       [ 4.30403137e+00,  4.11940002e+00,  1.23277550e+01,\n",
       "         1.28286800e+01,  9.78523636e+00,  1.16380043e+01,\n",
       "         5.05364704e+00,  5.61016369e+00,  6.35818768e+00,\n",
       "         6.52864408e+00,  1.16728964e+01,  1.16682863e+01,\n",
       "         1.16444588e+01,  1.05934744e+01,  8.29442978e+00,\n",
       "         1.11026335e+01,  1.12135992e+01,  9.69809151e+00,\n",
       "         1.07424850e+01,  9.22908783e+00,  7.94413137e+00,\n",
       "         7.95443487e+00,  8.45141220e+00,  8.86576176e+00,\n",
       "         7.42202663e+00,  1.21695557e+01,  1.47567806e+01,\n",
       "         1.29362040e+01,  1.12827015e+01,  7.55946493e+00,\n",
       "         9.34744644e+00,  1.05971508e+01,  1.14966164e+01,\n",
       "         9.26550674e+00,  5.50019312e+00,  8.95271015e+00,\n",
       "         1.14473171e+01,  9.39476013e+00,  1.18052711e+01,\n",
       "         1.07717419e+01,  1.18546162e+01,  1.52786064e+01,\n",
       "         1.36253834e+01,  1.00003319e+01],\n",
       "       [ 8.17887783e-01, -2.07558942e+00,  3.82863879e-02,\n",
       "        -2.65837598e+00, -6.13810205e+00, -1.74933875e+00,\n",
       "        -6.59678650e+00, -6.90923643e+00, -5.38897610e+00,\n",
       "        -3.02852201e+00, -3.01109982e+00, -5.15261698e+00,\n",
       "        -6.00149345e+00, -5.83363581e+00, -7.71679640e+00,\n",
       "        -8.68228436e+00, -8.03182602e+00, -8.10874271e+00,\n",
       "        -6.87913895e+00, -5.58494759e+00, -4.69864559e+00,\n",
       "        -5.64736700e+00, -5.07889938e+00, -5.25861645e+00,\n",
       "        -5.33216238e+00,  7.44148552e-01,  3.03396463e+00,\n",
       "         1.23872590e+00, -1.87495279e+00, -3.17368746e+00,\n",
       "        -1.51456809e+00, -1.49919605e+00, -2.84438539e+00,\n",
       "        -3.63427353e+00, -1.97946095e+00, -2.25244713e+00,\n",
       "        -2.02370095e+00,  4.02027321e+00,  1.25297093e+00,\n",
       "        -2.94836807e+00, -4.61720896e+00, -1.90621078e+00,\n",
       "         1.42738199e+00,  1.05611968e+00]], dtype=float32)"
      ]
     },
     "execution_count": 33,
     "metadata": {},
     "output_type": "execute_result"
    }
   ],
   "source": [
    "example_features_on"
   ]
  },
  {
   "cell_type": "code",
   "execution_count": 34,
   "id": "purple-thirty",
   "metadata": {},
   "outputs": [
    {
     "data": {
      "text/plain": [
       "(20, 44)"
      ]
     },
     "execution_count": 34,
     "metadata": {},
     "output_type": "execute_result"
    }
   ],
   "source": [
    "example_features_on.shape"
   ]
  },
  {
   "cell_type": "code",
   "execution_count": 35,
   "id": "objective-coral",
   "metadata": {},
   "outputs": [
    {
     "data": {
      "text/plain": [
       "(20, 44)"
      ]
     },
     "execution_count": 35,
     "metadata": {},
     "output_type": "execute_result"
    }
   ],
   "source": [
    "example_features_off.shape"
   ]
  },
  {
   "cell_type": "code",
   "execution_count": 36,
   "id": "super-portable",
   "metadata": {},
   "outputs": [
    {
     "data": {
      "image/png": "[encoded data removed]",
      "text/plain": [
       "<Figure size 1080x720 with 2 Axes>"
      ]
     },
     "metadata": {
      "needs_background": "light"
     },
     "output_type": "display_data"
    },
    {
     "data": {
      "image/png": "[encoded data removed]",
      "text/plain": [
       "<Figure size 1080x720 with 2 Axes>"
      ]
     },
     "metadata": {
      "needs_background": "light"
     },
     "output_type": "display_data"
    },
    {
     "data": {
      "image/png": "[encoded data removed]",
      "text/plain": [
       "<Figure size 1080x720 with 2 Axes>"
      ]
     },
     "metadata": {
      "needs_background": "light"
     },
     "output_type": "display_data"
    }
   ],
   "source": [
    "plt.figure(figsize=(15,10))\n",
    "librosa.display.specshow(example_features_on, x_axis='time', sr=sampling_rate_on)\n",
    "plt.colorbar(format='%2f')\n",
    "plt.show()\n",
    "\n",
    "plt.figure(figsize=(15,10))\n",
    "librosa.display.specshow(example_features_off, x_axis='time', sr=sampling_rate_off)\n",
    "plt.colorbar(format='%2f')\n",
    "plt.show()\n",
    "\n",
    "plt.figure(figsize=(15,10))\n",
    "librosa.display.specshow(example_features_other, x_axis='time', sr=sampling_rate_other)\n",
    "plt.colorbar(format='%2f')\n",
    "plt.show()"
   ]
  },
  {
   "cell_type": "code",
   "execution_count": 37,
   "id": "broad-illinois",
   "metadata": {},
   "outputs": [],
   "source": [
    "x_shape = example_features_on.shape"
   ]
  },
  {
   "cell_type": "code",
   "execution_count": 38,
   "id": "impressed-bicycle",
   "metadata": {},
   "outputs": [
    {
     "data": {
      "text/plain": [
       "(20, 44)"
      ]
     },
     "execution_count": 38,
     "metadata": {},
     "output_type": "execute_result"
    }
   ],
   "source": [
    "x_shape"
   ]
  },
  {
   "cell_type": "code",
   "execution_count": 39,
   "id": "jewish-livestock",
   "metadata": {},
   "outputs": [],
   "source": [
    "training_set_size = sum([len(os.listdir(os.path.join(training_set_dir,dir_))) for dir_ in os.listdir(training_set_dir)])\n",
    "dev_set_size = sum([len(os.listdir(os.path.join(dev_set_dir,dir_))) for dir_ in os.listdir(dev_set_dir)])\n",
    "test_set_size = sum([len(os.listdir(os.path.join(test_set_dir,dir_))) for dir_ in os.listdir(test_set_dir)])"
   ]
  },
  {
   "cell_type": "code",
   "execution_count": 40,
   "id": "compatible-price",
   "metadata": {},
   "outputs": [
    {
     "data": {
      "text/plain": [
       "41849"
      ]
     },
     "execution_count": 40,
     "metadata": {},
     "output_type": "execute_result"
    }
   ],
   "source": [
    "training_set_size"
   ]
  },
  {
   "cell_type": "code",
   "execution_count": 41,
   "id": "junior-showcase",
   "metadata": {},
   "outputs": [
    {
     "data": {
      "text/plain": [
       "20922"
      ]
     },
     "execution_count": 41,
     "metadata": {},
     "output_type": "execute_result"
    }
   ],
   "source": [
    "dev_set_size"
   ]
  },
  {
   "cell_type": "code",
   "execution_count": 42,
   "id": "reverse-tattoo",
   "metadata": {},
   "outputs": [
    {
     "data": {
      "text/plain": [
       "20927"
      ]
     },
     "execution_count": 42,
     "metadata": {},
     "output_type": "execute_result"
    }
   ],
   "source": [
    "test_set_size"
   ]
  },
  {
   "cell_type": "code",
   "execution_count": 43,
   "id": "centered-language",
   "metadata": {},
   "outputs": [],
   "source": [
    "class_labels = {\n",
    "    'on': 0,\n",
    "    'off': 1,\n",
    "    'left': 2,\n",
    "    'right': 3,\n",
    "    'up': 4,\n",
    "    'down': 5,\n",
    "    'zero': 6,\n",
    "    'one': 7,\n",
    "    'two': 8,\n",
    "    'three': 9,\n",
    "    'four': 10,\n",
    "    'five': 11,\n",
    "    'six': 12,\n",
    "    'seven': 13,\n",
    "    'eight': 14,\n",
    "    'nine': 15,\n",
    "    'other': 16\n",
    "}"
   ]
  },
  {
   "cell_type": "code",
   "execution_count": 44,
   "id": "fitting-tennessee",
   "metadata": {},
   "outputs": [],
   "source": [
    "def convert_label_to_one_hot(label):\n",
    "    vec = np.zeros(17)\n",
    "    vec[label] = 1\n",
    "    return vec"
   ]
  },
  {
   "cell_type": "code",
   "execution_count": 45,
   "id": "charitable-outline",
   "metadata": {},
   "outputs": [],
   "source": [
    "def preprocess_set(set_dir):\n",
    "    features = list()\n",
    "    labels = list()\n",
    "    class_dirs = [\n",
    "        'on', 'off', 'left', 'right', 'up', 'down',\n",
    "        'zero', 'one', 'two', 'three', 'four', 'five',\n",
    "        'six', 'seven', 'eight', 'nine', 'other'\n",
    "    ]\n",
    "    for class_ in class_dirs:\n",
    "        class_dir = os.path.join(set_dir, class_)\n",
    "        files = os.listdir(class_dir)\n",
    "        for file in files:\n",
    "            full_filename = os.path.join(class_dir, file)\n",
    "            mfcc, _ = extract_mfcc_features(full_filename, n_mfccs=N_MFCCS)\n",
    "            features.append(mfcc)\n",
    "        oh = convert_label_to_one_hot(class_labels[class_])\n",
    "        labels += [oh for file in files]\n",
    "    return np.stack(features), np.stack(labels)"
   ]
  },
  {
   "cell_type": "code",
   "execution_count": 47,
   "id": "turkish-today",
   "metadata": {},
   "outputs": [],
   "source": [
    "training_set = preprocess_set(training_set_dir)"
   ]
  },
  {
   "cell_type": "code",
   "execution_count": 48,
   "id": "manual-cannon",
   "metadata": {},
   "outputs": [],
   "source": [
    "training_set_features, training_set_labels = training_set"
   ]
  },
  {
   "cell_type": "code",
   "execution_count": 49,
   "id": "connected-science",
   "metadata": {},
   "outputs": [
    {
     "data": {
      "text/plain": [
       "(41849, 17)"
      ]
     },
     "execution_count": 49,
     "metadata": {},
     "output_type": "execute_result"
    }
   ],
   "source": [
    "training_set_labels.shape"
   ]
  },
  {
   "cell_type": "code",
   "execution_count": 50,
   "id": "quantitative-hunter",
   "metadata": {},
   "outputs": [
    {
     "data": {
      "text/plain": [
       "(41849, 20, 44)"
      ]
     },
     "execution_count": 50,
     "metadata": {},
     "output_type": "execute_result"
    }
   ],
   "source": [
    "training_set_features.shape"
   ]
  },
  {
   "cell_type": "code",
   "execution_count": 51,
   "id": "dimensional-flood",
   "metadata": {},
   "outputs": [],
   "source": [
    "dev_set = preprocess_set(dev_set_dir)\n",
    "test_set = preprocess_set(test_set_dir)"
   ]
  },
  {
   "cell_type": "code",
   "execution_count": 52,
   "id": "hindu-sydney",
   "metadata": {},
   "outputs": [],
   "source": [
    "dev_set_features, dev_set_labels = dev_set"
   ]
  },
  {
   "cell_type": "code",
   "execution_count": 53,
   "id": "indirect-morgan",
   "metadata": {},
   "outputs": [
    {
     "data": {
      "text/plain": [
       "(20922, 20, 44)"
      ]
     },
     "execution_count": 53,
     "metadata": {},
     "output_type": "execute_result"
    }
   ],
   "source": [
    "dev_set_features.shape"
   ]
  },
  {
   "cell_type": "code",
   "execution_count": 54,
   "id": "mobile-bowling",
   "metadata": {},
   "outputs": [
    {
     "data": {
      "text/plain": [
       "(20922, 17)"
      ]
     },
     "execution_count": 54,
     "metadata": {},
     "output_type": "execute_result"
    }
   ],
   "source": [
    "dev_set_labels.shape"
   ]
  },
  {
   "cell_type": "code",
   "execution_count": 55,
   "id": "material-drove",
   "metadata": {},
   "outputs": [
    {
     "data": {
      "text/plain": [
       "array([[1., 0., 0., ..., 0., 0., 0.],\n",
       "       [1., 0., 0., ..., 0., 0., 0.],\n",
       "       [1., 0., 0., ..., 0., 0., 0.],\n",
       "       ...,\n",
       "       [0., 0., 0., ..., 0., 0., 1.],\n",
       "       [0., 0., 0., ..., 0., 0., 1.],\n",
       "       [0., 0., 0., ..., 0., 0., 1.]])"
      ]
     },
     "execution_count": 55,
     "metadata": {},
     "output_type": "execute_result"
    }
   ],
   "source": [
    "dev_set_labels"
   ]
  },
  {
   "cell_type": "code",
   "execution_count": 56,
   "id": "prescribed-station",
   "metadata": {},
   "outputs": [],
   "source": [
    "test_set_features, test_set_labels = test_set"
   ]
  },
  {
   "cell_type": "code",
   "execution_count": 57,
   "id": "swiss-blade",
   "metadata": {},
   "outputs": [
    {
     "data": {
      "text/plain": [
       "(20927, 20, 44)"
      ]
     },
     "execution_count": 57,
     "metadata": {},
     "output_type": "execute_result"
    }
   ],
   "source": [
    "test_set_features.shape"
   ]
  },
  {
   "cell_type": "code",
   "execution_count": 58,
   "id": "changed-superior",
   "metadata": {},
   "outputs": [
    {
     "data": {
      "text/plain": [
       "(20927, 17)"
      ]
     },
     "execution_count": 58,
     "metadata": {},
     "output_type": "execute_result"
    }
   ],
   "source": [
    "test_set_labels.shape"
   ]
  },
  {
   "cell_type": "code",
   "execution_count": 59,
   "id": "orange-evening",
   "metadata": {},
   "outputs": [],
   "source": [
    "np.save('training-features', training_set_features)\n",
    "np.save('training-labels', training_set_labels)\n",
    "np.save('dev-features', dev_set_features)\n",
    "np.save('dev-labels', dev_set_labels)\n",
    "np.save('test-features', test_set_features)\n",
    "np.save('test-labels', test_set_labels)"
   ]
  },
  {
   "cell_type": "code",
   "execution_count": null,
   "id": "liable-wichita",
   "metadata": {},
   "outputs": [],
   "source": []
  }
 ],
 "metadata": {
  "kernelspec": {
   "display_name": "Python 3",
   "language": "python",
   "name": "python3"
  },
  "language_info": {
   "codemirror_mode": {
    "name": "ipython",
    "version": 3
   },
   "file_extension": ".py",
   "mimetype": "text/x-python",
   "name": "python",
   "nbconvert_exporter": "python",
   "pygments_lexer": "ipython3",
   "version": "3.8.8"
  }
 },
 "nbformat": 4,
 "nbformat_minor": 5
}
