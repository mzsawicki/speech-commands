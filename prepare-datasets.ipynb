{
 "cells": [
  {
   "cell_type": "code",
   "execution_count": 1,
   "id": "dressed-quebec",
   "metadata": {},
   "outputs": [],
   "source": [
    "import os\n",
    "import shutil\n",
    "import numpy as np"
   ]
  },
  {
   "cell_type": "code",
   "execution_count": 2,
   "id": "ignored-suspension",
   "metadata": {},
   "outputs": [],
   "source": [
    "def copy_all_files(source_dir, dest_dir):\n",
    "    for filename in os.listdir(source_dir):\n",
    "        full_filename = os.path.join(source_dir, filename)\n",
    "        shutil.copy(full_filename, dest_dir)"
   ]
  },
  {
   "cell_type": "code",
   "execution_count": 3,
   "id": "loaded-party",
   "metadata": {},
   "outputs": [],
   "source": [
    "def list_with_full_paths(source_dir):\n",
    "    return [os.path.join(source_dir, file) for file in os.listdir(source_dir)]"
   ]
  },
  {
   "cell_type": "code",
   "execution_count": 4,
   "id": "productive-beatles",
   "metadata": {},
   "outputs": [],
   "source": [
    "def randomly_split_in_half(source_dir):\n",
    "    '''Returns full paths'''\n",
    "    files = list_with_full_paths(source_dir)\n",
    "    np.random.shuffle(files)\n",
    "    split_point = len(files) // 2\n",
    "    return files[:split_point], files[split_point:]"
   ]
  },
  {
   "cell_type": "code",
   "execution_count": 8,
   "id": "extensive-dallas",
   "metadata": {},
   "outputs": [],
   "source": [
    "data_dir = 'data'\n",
    "set_dirs = [os.path.join(data_dir, set_dir) for set_dir in ('clean-set', 'noisy-set')]"
   ]
  },
  {
   "cell_type": "code",
   "execution_count": 9,
   "id": "alternative-envelope",
   "metadata": {},
   "outputs": [],
   "source": [
    "os.mkdir(data_dir)"
   ]
  },
  {
   "cell_type": "code",
   "execution_count": 10,
   "id": "thick-microwave",
   "metadata": {},
   "outputs": [],
   "source": [
    "for dir_ in set_dirs:\n",
    "    os.mkdir(dir_)"
   ]
  },
  {
   "cell_type": "code",
   "execution_count": 11,
   "id": "personalized-inspiration",
   "metadata": {},
   "outputs": [],
   "source": [
    "commands = [\n",
    "    'on', 'off',\n",
    "    'left', 'right', 'up', 'down',\n",
    "    'one', 'two', 'three', 'four', 'five', 'six', 'seven', 'eight', 'nine', 'zero'\n",
    "]"
   ]
  },
  {
   "cell_type": "code",
   "execution_count": 12,
   "id": "functioning-replica",
   "metadata": {},
   "outputs": [],
   "source": [
    "for outer_dir in set_dirs:\n",
    "    for inner_dir in commands:\n",
    "        os.mkdir(os.path.join(outer_dir, inner_dir))"
   ]
  },
  {
   "cell_type": "code",
   "execution_count": 13,
   "id": "surgical-snake",
   "metadata": {},
   "outputs": [],
   "source": [
    "data_source_dir = os.path.join('data-raw', 'augmented_dataset', 'augmented_dataset')\n",
    "noisy_data_source_dir = os.path.join('data-raw', 'augmented_dataset_verynoisy', 'augmented_dataset_verynoisy')"
   ]
  },
  {
   "cell_type": "code",
   "execution_count": 14,
   "id": "international-artist",
   "metadata": {},
   "outputs": [],
   "source": [
    "clean_set_dir = os.path.join(data_dir, 'clean-set')\n",
    "noisy_set_dir = os.path.join(data_dir, 'noisy-set')"
   ]
  },
  {
   "cell_type": "code",
   "execution_count": 15,
   "id": "informative-heavy",
   "metadata": {},
   "outputs": [],
   "source": [
    "# Valid commands, clean\n",
    "for command_name in commands:\n",
    "    source_dir = os.path.join(data_source_dir, command_name)\n",
    "    dest_dir = os.path.join(clean_set_dir, command_name)\n",
    "    copy_all_files(source_dir, dest_dir)"
   ]
  },
  {
   "cell_type": "code",
   "execution_count": 16,
   "id": "determined-eugene",
   "metadata": {},
   "outputs": [],
   "source": [
    "# Other commands, clean set\n",
    "clean_set_all_other_files = list()\n",
    "clean_set_other_commands_dir = os.path.join(clean_set_dir, 'other')\n",
    "os.mkdir(clean_set_other_commands_dir)\n",
    "for dir_ in os.listdir(data_source_dir):\n",
    "    if dir_ not in commands:\n",
    "        full_dir = os.path.join(data_source_dir, dir_)\n",
    "        clean_set_all_other_files += [os.path.join(full_dir, file) for file in os.listdir(full_dir)]\n",
    "        \n",
    "for n, file in enumerate(clean_set_all_other_files):\n",
    "    shutil.copy(file, os.path.join(clean_set_other_commands_dir, f'{n}.wav'))"
   ]
  },
  {
   "cell_type": "code",
   "execution_count": 17,
   "id": "southern-favor",
   "metadata": {},
   "outputs": [],
   "source": [
    "# Valid commands, noisy\n",
    "for command_name in commands:\n",
    "    source_dir = os.path.join(noisy_data_source_dir, command_name)\n",
    "    dest_dir = os.path.join(noisy_set_dir, command_name)\n",
    "    copy_all_files(source_dir, dest_dir)"
   ]
  },
  {
   "cell_type": "code",
   "execution_count": 20,
   "id": "furnished-alert",
   "metadata": {},
   "outputs": [],
   "source": [
    "# Other commands, noisy\n",
    "noisy_set_all_other_files = list()\n",
    "noisy_set_other_commands_dir = os.path.join(noisy_set_dir, 'other')\n",
    "os.mkdir(noisy_set_other_commands_dir)\n",
    "for dir_ in os.listdir(noisy_data_source_dir):\n",
    "    if dir_ not in commands:\n",
    "        full_dir = os.path.join(noisy_data_source_dir, dir_)\n",
    "        noisy_set_all_other_files += [os.path.join(full_dir, file) for file in os.listdir(full_dir)]\n",
    "        \n",
    "for n, file in enumerate(noisy_set_all_other_files):\n",
    "    shutil.copy(file, os.path.join(noisy_set_other_commands_dir, f'{n}.wav'))"
   ]
  },
  {
   "cell_type": "code",
   "execution_count": null,
   "id": "ideal-southeast",
   "metadata": {},
   "outputs": [],
   "source": []
  }
 ],
 "metadata": {
  "kernelspec": {
   "display_name": "Python 3",
   "language": "python",
   "name": "python3"
  },
  "language_info": {
   "codemirror_mode": {
    "name": "ipython",
    "version": 3
   },
   "file_extension": ".py",
   "mimetype": "text/x-python",
   "name": "python",
   "nbconvert_exporter": "python",
   "pygments_lexer": "ipython3",
   "version": "3.8.8"
  }
 },
 "nbformat": 4,
 "nbformat_minor": 5
}
