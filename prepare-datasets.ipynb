{
 "cells": [
  {
   "cell_type": "code",
   "execution_count": 1,
   "id": "focal-reconstruction",
   "metadata": {},
   "outputs": [],
   "source": [
    "import os\n",
    "import shutil\n",
    "import numpy as np"
   ]
  },
  {
   "cell_type": "code",
   "execution_count": 2,
   "id": "alone-pixel",
   "metadata": {},
   "outputs": [],
   "source": [
    "def copy_all_files(source_dir, dest_dir):\n",
    "    for filename in os.listdir(source_dir):\n",
    "        full_filename = os.path.join(source_dir, filename)\n",
    "        shutil.copy(full_filename, dest_dir)"
   ]
  },
  {
   "cell_type": "code",
   "execution_count": 3,
   "id": "established-georgia",
   "metadata": {},
   "outputs": [],
   "source": [
    "def list_with_full_paths(source_dir):\n",
    "    return [os.path.join(source_dir, file) for file in os.listdir(source_dir)]"
   ]
  },
  {
   "cell_type": "code",
   "execution_count": 4,
   "id": "superior-livestock",
   "metadata": {},
   "outputs": [],
   "source": [
    "def randomly_split_in_half(source_dir):\n",
    "    '''Returns full paths'''\n",
    "    files = list_with_full_paths(source_dir)\n",
    "    np.random.shuffle(files)\n",
    "    split_point = len(files) // 2\n",
    "    return files[:split_point], files[split_point:]"
   ]
  },
  {
   "cell_type": "code",
   "execution_count": 5,
   "id": "controlled-desktop",
   "metadata": {},
   "outputs": [],
   "source": [
    "data_dir = 'data'\n",
    "set_dirs = [os.path.join(data_dir, set_dir) for set_dir in ('train-set', 'dev-set', 'test-set')]"
   ]
  },
  {
   "cell_type": "code",
   "execution_count": 6,
   "id": "sensitive-shoulder",
   "metadata": {},
   "outputs": [],
   "source": [
    "os.mkdir(data_dir)"
   ]
  },
  {
   "cell_type": "code",
   "execution_count": 7,
   "id": "hindu-still",
   "metadata": {},
   "outputs": [],
   "source": [
    "for dir_ in set_dirs:\n",
    "    os.mkdir(dir_)"
   ]
  },
  {
   "cell_type": "code",
   "execution_count": 8,
   "id": "tribal-catalyst",
   "metadata": {},
   "outputs": [],
   "source": [
    "commands = [\n",
    "    'on', 'off',\n",
    "    'left', 'right', 'up', 'down',\n",
    "    'one', 'two', 'three', 'four', 'five', 'six', 'seven', 'eight', 'nine', 'zero'\n",
    "]"
   ]
  },
  {
   "cell_type": "code",
   "execution_count": 9,
   "id": "enclosed-invasion",
   "metadata": {},
   "outputs": [],
   "source": [
    "for outer_dir in set_dirs:\n",
    "    for inner_dir in commands:\n",
    "        os.mkdir(os.path.join(outer_dir, inner_dir))"
   ]
  },
  {
   "cell_type": "code",
   "execution_count": 10,
   "id": "historical-invasion",
   "metadata": {},
   "outputs": [],
   "source": [
    "data_source_dir = os.path.join('data-raw', 'augmented_dataset', 'augmented_dataset')\n",
    "noisy_data_source_dir = os.path.join('data-raw', 'augmented_dataset_verynoisy', 'augmented_dataset_verynoisy')"
   ]
  },
  {
   "cell_type": "code",
   "execution_count": 11,
   "id": "biological-sullivan",
   "metadata": {},
   "outputs": [],
   "source": [
    "training_set_dir = os.path.join(data_dir, 'train-set')\n",
    "dev_set_dir = os.path.join(data_dir, 'dev-set')\n",
    "test_set_dir = os.path.join(data_dir, 'test-set')"
   ]
  },
  {
   "cell_type": "code",
   "execution_count": 12,
   "id": "prostate-swing",
   "metadata": {},
   "outputs": [],
   "source": [
    "# Valid commands, training set\n",
    "for command_name in commands:\n",
    "    source_dir = os.path.join(data_source_dir, command_name)\n",
    "    dest_dir = os.path.join(training_set_dir, command_name)\n",
    "    copy_all_files(source_dir, dest_dir)"
   ]
  },
  {
   "cell_type": "code",
   "execution_count": 16,
   "id": "micro-planner",
   "metadata": {},
   "outputs": [],
   "source": [
    "# Other commands, training set\n",
    "training_set_all_other_files = list()\n",
    "training_set_other_commands_dir = os.path.join(training_set_dir, 'other')\n",
    "os.mkdir(training_set_other_commands_dir)\n",
    "for dir_ in os.listdir(data_source_dir):\n",
    "    if dir_ not in commands:\n",
    "        full_dir = os.path.join(data_source_dir, dir_)\n",
    "        training_set_all_other_files += [os.path.join(full_dir, file) for file in os.listdir(full_dir)]\n",
    "        \n",
    "for n, file in enumerate(training_set_all_other_files):\n",
    "    shutil.copy(file, os.path.join(training_set_other_commands_dir, f'{n}.wav'))"
   ]
  },
  {
   "cell_type": "code",
   "execution_count": 18,
   "id": "informational-medicine",
   "metadata": {},
   "outputs": [],
   "source": [
    "# Dev and test set (noisy)\n",
    "other_commands_files = list() \n",
    "dev_set_other_commands_dir = os.path.join(dev_set_dir, 'other')\n",
    "test_set_other_commands_dir = os.path.join(test_set_dir, 'other')\n",
    "os.mkdir(dev_set_other_commands_dir)\n",
    "os.mkdir(test_set_other_commands_dir)\n",
    "for dir_ in os.listdir(noisy_data_source_dir):\n",
    "    # If valid command, split into dev and test examples\n",
    "    if dir_ in commands:\n",
    "        dev_files, test_files = randomly_split_in_half(os.path.join(noisy_data_source_dir, dir_))\n",
    "        for n, file in enumerate(dev_files):\n",
    "            shutil.copy(file, os.path.join(dev_set_dir, dir_, f'{n}.wav'))\n",
    "        for n, file in enumerate(test_files):\n",
    "            shutil.copy(file, os.path.join(test_set_dir, dir_, f'{n}.wav'))\n",
    "    # Otherwise, add to \"other\" files list\n",
    "    else:\n",
    "        other_commands_files += list_with_full_paths(os.path.join(noisy_data_source_dir, dir_))\n",
    "# Split \"other\" files into dev and test set\n",
    "np.random.shuffle(other_commands_files)\n",
    "split_point = len(other_commands_files) // 2\n",
    "dev_others, test_others = other_commands_files[:split_point], other_commands_files[split_point:]\n",
    "# Copy \"other\" examples for dev and test sets\n",
    "for n, file in enumerate(dev_others):\n",
    "    shutil.copy(file, os.path.join(dev_set_other_commands_dir, f'{n}.wav'))\n",
    "for n, file in enumerate(test_others):\n",
    "    shutil.copy(file, os.path.join(test_set_other_commands_dir, f'{n}.wav'))"
   ]
  },
  {
   "cell_type": "code",
   "execution_count": 19,
   "id": "bridal-collection",
   "metadata": {},
   "outputs": [
    {
     "name": "stdout",
     "output_type": "stream",
     "text": [
      "Training set summary\n",
      "seven: 1411\n",
      "nine: 1144\n",
      "four: 2400\n",
      "one: 1276\n",
      "off: 2244\n",
      "left: 1485\n",
      "zero: 1306\n",
      "six: 1485\n",
      "up: 1187\n",
      "right: 1276\n",
      "on: 2228\n",
      "three: 1188\n",
      "other: 18924\n",
      "two: 902\n",
      ".ipynb_checkpoints: 0\n",
      "five: 1092\n",
      "down: 1188\n",
      "eight: 1113\n"
     ]
    }
   ],
   "source": [
    "# Training set summary\n",
    "print('Training set summary')\n",
    "for dir_ in os.listdir(training_set_dir):\n",
    "    dir_examples_count = len(os.listdir(os.path.join(training_set_dir, dir_)))\n",
    "    print(f'{dir_}: {dir_examples_count}')"
   ]
  },
  {
   "cell_type": "code",
   "execution_count": 20,
   "id": "sized-theology",
   "metadata": {},
   "outputs": [
    {
     "name": "stdout",
     "output_type": "stream",
     "text": [
      "Dev set summary\n",
      "seven: 705\n",
      "nine: 572\n",
      "four: 1200\n",
      "one: 638\n",
      "off: 1122\n",
      "left: 742\n",
      "zero: 653\n",
      "six: 742\n",
      "up: 593\n",
      "right: 638\n",
      "on: 1114\n",
      "three: 594\n",
      "other: 9462\n",
      "two: 451\n",
      "five: 546\n",
      "down: 594\n",
      "eight: 556\n"
     ]
    }
   ],
   "source": [
    "# Dev set summary\n",
    "print('Dev set summary')\n",
    "for dir_ in os.listdir(dev_set_dir):\n",
    "    dir_examples_count = len(os.listdir(os.path.join(dev_set_dir, dir_)))\n",
    "    print(f'{dir_}: {dir_examples_count}')"
   ]
  },
  {
   "cell_type": "code",
   "execution_count": 21,
   "id": "sudden-record",
   "metadata": {},
   "outputs": [
    {
     "name": "stdout",
     "output_type": "stream",
     "text": [
      "Dev set summary\n",
      "seven: 706\n",
      "nine: 572\n",
      "four: 1200\n",
      "one: 638\n",
      "off: 1122\n",
      "left: 743\n",
      "zero: 653\n",
      "six: 743\n",
      "up: 594\n",
      "right: 638\n",
      "on: 1114\n",
      "three: 594\n",
      "other: 9462\n",
      "two: 451\n",
      "five: 546\n",
      "down: 594\n",
      "eight: 557\n"
     ]
    }
   ],
   "source": [
    "# Test set summary\n",
    "print('Dev set summary')\n",
    "for dir_ in os.listdir(dev_set_dir):\n",
    "    dir_examples_count = len(os.listdir(os.path.join(test_set_dir, dir_)))\n",
    "    print(f'{dir_}: {dir_examples_count}')"
   ]
  },
  {
   "cell_type": "code",
   "execution_count": null,
   "id": "natural-webcam",
   "metadata": {},
   "outputs": [],
   "source": []
  }
 ],
 "metadata": {
  "kernelspec": {
   "display_name": "Python 3",
   "language": "python",
   "name": "python3"
  },
  "language_info": {
   "codemirror_mode": {
    "name": "ipython",
    "version": 3
   },
   "file_extension": ".py",
   "mimetype": "text/x-python",
   "name": "python",
   "nbconvert_exporter": "python",
   "pygments_lexer": "ipython3",
   "version": "3.8.8"
  }
 },
 "nbformat": 4,
 "nbformat_minor": 5
}
