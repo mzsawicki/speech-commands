{
 "cells": [
  {
   "cell_type": "code",
   "execution_count": 63,
   "id": "scenic-westminster",
   "metadata": {},
   "outputs": [],
   "source": [
    "import numpy as np\n",
    "import matplotlib.pyplot as plt\n",
    "import tensorflow as tf\n",
    "from confusion_matrix_pretty_print import pretty_plot_confusion_matrix\n",
    "from pandas import DataFrame\n",
    "from sklearn.metrics import confusion_matrix, accuracy_score, precision_score, recall_score, f1_score"
   ]
  },
  {
   "cell_type": "code",
   "execution_count": 2,
   "id": "distinguished-demonstration",
   "metadata": {},
   "outputs": [],
   "source": [
    "%matplotlib inline"
   ]
  },
  {
   "cell_type": "code",
   "execution_count": 3,
   "id": "damaged-belle",
   "metadata": {},
   "outputs": [],
   "source": [
    "class_labels = {\n",
    "    'on': 0,\n",
    "    'off': 1,\n",
    "    'left': 2,\n",
    "    'right': 3,\n",
    "    'up': 4,\n",
    "    'down': 5,\n",
    "    'zero': 6,\n",
    "    'one': 7,\n",
    "    'two': 8,\n",
    "    'three': 9,\n",
    "    'four': 10,\n",
    "    'five': 11,\n",
    "    'six': 12,\n",
    "    'seven': 13,\n",
    "    'eight': 14,\n",
    "    'nine': 15,\n",
    "    'other': 16\n",
    "}"
   ]
  },
  {
   "cell_type": "code",
   "execution_count": 4,
   "id": "diagnostic-queens",
   "metadata": {},
   "outputs": [],
   "source": [
    "TRAINING_EPOCHS = 200\n",
    "LEARNING_RATE = 0.0001\n",
    "BATCH_SIZE = 32"
   ]
  },
  {
   "cell_type": "code",
   "execution_count": 7,
   "id": "former-burke",
   "metadata": {},
   "outputs": [],
   "source": [
    "clean_X = np.load('clean-features.npy')\n",
    "clean_Y = np.load('clean-labels.npy')\n",
    "\n",
    "noisy_X = np.load('noisy-features.npy')\n",
    "noisy_Y = np.load('noisy-labels.npy')"
   ]
  },
  {
   "cell_type": "code",
   "execution_count": 8,
   "id": "cardiovascular-uniform",
   "metadata": {},
   "outputs": [
    {
     "data": {
      "text/plain": [
       "(41849, 20, 44)"
      ]
     },
     "execution_count": 8,
     "metadata": {},
     "output_type": "execute_result"
    }
   ],
   "source": [
    "clean_X.shape"
   ]
  },
  {
   "cell_type": "code",
   "execution_count": 9,
   "id": "severe-objective",
   "metadata": {},
   "outputs": [],
   "source": [
    "clean_examples_count = clean_X.shape[0]"
   ]
  },
  {
   "cell_type": "code",
   "execution_count": 10,
   "id": "illegal-negotiation",
   "metadata": {},
   "outputs": [
    {
     "data": {
      "text/plain": [
       "(41849, 20, 44)"
      ]
     },
     "execution_count": 10,
     "metadata": {},
     "output_type": "execute_result"
    }
   ],
   "source": [
    "noisy_X.shape"
   ]
  },
  {
   "cell_type": "code",
   "execution_count": 11,
   "id": "inclusive-boston",
   "metadata": {},
   "outputs": [],
   "source": [
    "noisy_examples_count = noisy_X.shape[0]"
   ]
  },
  {
   "cell_type": "code",
   "execution_count": 12,
   "id": "inappropriate-newport",
   "metadata": {},
   "outputs": [],
   "source": [
    "# Randomly shuffle primary sets\n",
    "clean_set_permutation = np.random.permutation(clean_examples_count)\n",
    "clean_X = clean_X[clean_set_permutation]\n",
    "clean_Y = clean_Y[clean_set_permutation]\n",
    "\n",
    "noisy_set_permutation = np.random.permutation(noisy_examples_count)\n",
    "noisy_X = noisy_X[noisy_set_permutation]\n",
    "noisy_Y = noisy_Y[noisy_set_permutation]"
   ]
  },
  {
   "cell_type": "code",
   "execution_count": 13,
   "id": "pointed-collaboration",
   "metadata": {},
   "outputs": [],
   "source": [
    "# Shuffle 50% of noisy examples with clean set. The rest will represent \"target\" distribution\n",
    "noisy_set_split_point = int(np.floor(noisy_examples_count * 0.75))\n",
    "\n",
    "noisy_X_to_shuffle, target_X = noisy_X[:noisy_set_split_point], noisy_X[noisy_set_split_point:]\n",
    "noisy_Y_to_shuffle, target_Y = noisy_Y[:noisy_set_split_point], noisy_Y[noisy_set_split_point:]\n",
    "\n",
    "shuffled_X = np.concatenate((clean_X, noisy_X_to_shuffle), axis=0)\n",
    "shuffled_Y = np.concatenate((clean_Y, noisy_Y_to_shuffle), axis=0)\n",
    "\n",
    "shuffled_examples_count = shuffled_X.shape[0]\n",
    "shuffled_set_permutation = np.random.permutation(shuffled_examples_count)\n",
    "shuffled_X = shuffled_X[shuffled_set_permutation]\n",
    "shuffled_Y = shuffled_Y[shuffled_set_permutation]"
   ]
  },
  {
   "cell_type": "code",
   "execution_count": 14,
   "id": "processed-oasis",
   "metadata": {},
   "outputs": [],
   "source": [
    "# Finally, split into train, bridge, dev and test set\n",
    "shuffled_set_split_point = int(np.floor(shuffled_examples_count * 0.9))\n",
    "train_X, bridge_X = shuffled_X[:shuffled_set_split_point], shuffled_X[shuffled_set_split_point:]\n",
    "train_Y, bridge_Y = shuffled_Y[:shuffled_set_split_point], shuffled_Y[shuffled_set_split_point:]\n",
    "\n",
    "target_examples_count = target_X.shape[0]\n",
    "target_set_split_point = target_examples_count // 2\n",
    "dev_X, test_X = target_X[:target_set_split_point], target_X[target_set_split_point:]\n",
    "dev_Y, test_Y = target_Y[:target_set_split_point], target_Y[target_set_split_point:]"
   ]
  },
  {
   "cell_type": "code",
   "execution_count": 13,
   "id": "straight-administration",
   "metadata": {},
   "outputs": [
    {
     "data": {
      "text/plain": [
       "(65911, 20, 44)"
      ]
     },
     "execution_count": 13,
     "metadata": {},
     "output_type": "execute_result"
    }
   ],
   "source": [
    "train_X.shape"
   ]
  },
  {
   "cell_type": "code",
   "execution_count": 14,
   "id": "caroline-syracuse",
   "metadata": {},
   "outputs": [
    {
     "data": {
      "text/plain": [
       "(65911, 17)"
      ]
     },
     "execution_count": 14,
     "metadata": {},
     "output_type": "execute_result"
    }
   ],
   "source": [
    "train_Y.shape"
   ]
  },
  {
   "cell_type": "code",
   "execution_count": 15,
   "id": "rapid-organic",
   "metadata": {},
   "outputs": [
    {
     "data": {
      "text/plain": [
       "(7324, 20, 44)"
      ]
     },
     "execution_count": 15,
     "metadata": {},
     "output_type": "execute_result"
    }
   ],
   "source": [
    "bridge_X.shape"
   ]
  },
  {
   "cell_type": "code",
   "execution_count": 16,
   "id": "informational-alaska",
   "metadata": {},
   "outputs": [
    {
     "data": {
      "text/plain": [
       "(7324, 17)"
      ]
     },
     "execution_count": 16,
     "metadata": {},
     "output_type": "execute_result"
    }
   ],
   "source": [
    "bridge_Y.shape"
   ]
  },
  {
   "cell_type": "code",
   "execution_count": 17,
   "id": "chemical-diagram",
   "metadata": {},
   "outputs": [
    {
     "data": {
      "text/plain": [
       "(5231, 20, 44)"
      ]
     },
     "execution_count": 17,
     "metadata": {},
     "output_type": "execute_result"
    }
   ],
   "source": [
    "dev_X.shape"
   ]
  },
  {
   "cell_type": "code",
   "execution_count": 18,
   "id": "divine-reynolds",
   "metadata": {},
   "outputs": [
    {
     "data": {
      "text/plain": [
       "(5231, 17)"
      ]
     },
     "execution_count": 18,
     "metadata": {},
     "output_type": "execute_result"
    }
   ],
   "source": [
    "dev_Y.shape"
   ]
  },
  {
   "cell_type": "code",
   "execution_count": 19,
   "id": "consecutive-syria",
   "metadata": {},
   "outputs": [
    {
     "data": {
      "text/plain": [
       "(5232, 20, 44)"
      ]
     },
     "execution_count": 19,
     "metadata": {},
     "output_type": "execute_result"
    }
   ],
   "source": [
    "test_X.shape"
   ]
  },
  {
   "cell_type": "code",
   "execution_count": 20,
   "id": "ethical-parallel",
   "metadata": {},
   "outputs": [
    {
     "data": {
      "text/plain": [
       "(5232, 17)"
      ]
     },
     "execution_count": 20,
     "metadata": {},
     "output_type": "execute_result"
    }
   ],
   "source": [
    "test_Y.shape"
   ]
  },
  {
   "cell_type": "code",
   "execution_count": 21,
   "id": "immune-prescription",
   "metadata": {},
   "outputs": [],
   "source": [
    "def model():\n",
    "    \n",
    "    X_input = tf.keras.layers.Input(shape=(20,44))\n",
    "    X = tf.keras.layers.LayerNormalization() (X_input)\n",
    "    X = tf.keras.layers.LSTM(units=44, activation='relu', dropout=0.3, return_sequences=True) (X)\n",
    "    X = tf.keras.layers.Flatten() (X)\n",
    "    X = tf.keras.layers.BatchNormalization() (X)\n",
    "    X = tf.keras.layers.Dense(32, activation='sigmoid') (X)\n",
    "    X = tf.keras.layers.Dense(17, activation='softmax') (X)\n",
    "    \n",
    "    model = tf.keras.Model(inputs=X_input, outputs=X, name='LSTM')\n",
    "    \n",
    "    return model"
   ]
  },
  {
   "cell_type": "code",
   "execution_count": 22,
   "id": "nominated-director",
   "metadata": {},
   "outputs": [],
   "source": [
    "model = model()"
   ]
  },
  {
   "cell_type": "code",
   "execution_count": 23,
   "id": "pregnant-silicon",
   "metadata": {},
   "outputs": [
    {
     "name": "stdout",
     "output_type": "stream",
     "text": [
      "Model: \"LSTM\"\n",
      "_________________________________________________________________\n",
      "Layer (type)                 Output Shape              Param #   \n",
      "=================================================================\n",
      "input_1 (InputLayer)         [(None, 20, 44)]          0         \n",
      "_________________________________________________________________\n",
      "layer_normalization (LayerNo (None, 20, 44)            88        \n",
      "_________________________________________________________________\n",
      "lstm (LSTM)                  (None, 20, 44)            15664     \n",
      "_________________________________________________________________\n",
      "flatten (Flatten)            (None, 880)               0         \n",
      "_________________________________________________________________\n",
      "batch_normalization (BatchNo (None, 880)               3520      \n",
      "_________________________________________________________________\n",
      "dense (Dense)                (None, 32)                28192     \n",
      "_________________________________________________________________\n",
      "dense_1 (Dense)              (None, 17)                561       \n",
      "=================================================================\n",
      "Total params: 48,025\n",
      "Trainable params: 46,265\n",
      "Non-trainable params: 1,760\n",
      "_________________________________________________________________\n"
     ]
    }
   ],
   "source": [
    "model.summary()"
   ]
  },
  {
   "cell_type": "code",
   "execution_count": 24,
   "id": "perceived-mediterranean",
   "metadata": {},
   "outputs": [],
   "source": [
    "optimizer = tf.keras.optimizers.Adam(learning_rate=LEARNING_RATE)\n",
    "\n",
    "metrics = [ tf.keras.metrics.CategoricalAccuracy(name='accuracy'), ]\n",
    "\n",
    "model.compile(loss='categorical_crossentropy', optimizer=optimizer, metrics=metrics)"
   ]
  },
  {
   "cell_type": "code",
   "execution_count": 25,
   "id": "commercial-prize",
   "metadata": {
    "scrolled": true,
    "tags": []
   },
   "outputs": [
    {
     "name": "stdout",
     "output_type": "stream",
     "text": [
      "Epoch 1/200\n",
      "2060/2060 [==============================] - 38s 17ms/step - loss: 1.9520 - accuracy: 0.4729\n",
      "Epoch 2/200\n",
      "2060/2060 [==============================] - 31s 15ms/step - loss: 1.2185 - accuracy: 0.6278\n",
      "Epoch 3/200\n",
      "2060/2060 [==============================] - 32s 15ms/step - loss: 0.8984 - accuracy: 0.7525\n",
      "Epoch 4/200\n",
      "2060/2060 [==============================] - 34s 17ms/step - loss: 0.6887 - accuracy: 0.8208\n",
      "Epoch 5/200\n",
      "2060/2060 [==============================] - 29s 14ms/step - loss: 0.5548 - accuracy: 0.8576\n",
      "Epoch 6/200\n",
      "2060/2060 [==============================] - 26s 12ms/step - loss: 0.4578 - accuracy: 0.8809\n",
      "Epoch 7/200\n",
      "2060/2060 [==============================] - 25s 12ms/step - loss: 0.3947 - accuracy: 0.8961\n",
      "Epoch 8/200\n",
      "2060/2060 [==============================] - 25s 12ms/step - loss: 0.3468 - accuracy: 0.9085\n",
      "Epoch 9/200\n",
      "2060/2060 [==============================] - 30s 14ms/step - loss: 0.3110 - accuracy: 0.9167\n",
      "Epoch 10/200\n",
      "2060/2060 [==============================] - 31s 15ms/step - loss: 0.2787 - accuracy: 0.9252\n",
      "Epoch 11/200\n",
      "2060/2060 [==============================] - 31s 15ms/step - loss: 0.2530 - accuracy: 0.9327\n",
      "Epoch 12/200\n",
      "2060/2060 [==============================] - 31s 15ms/step - loss: 0.2351 - accuracy: 0.9369\n",
      "Epoch 13/200\n",
      "2060/2060 [==============================] - 31s 15ms/step - loss: 0.2141 - accuracy: 0.9402\n",
      "Epoch 14/200\n",
      "2060/2060 [==============================] - 33s 16ms/step - loss: 0.1983 - accuracy: 0.9460\n",
      "Epoch 15/200\n",
      "2060/2060 [==============================] - 31s 15ms/step - loss: 0.1873 - accuracy: 0.9493\n",
      "Epoch 16/200\n",
      "2060/2060 [==============================] - 32s 15ms/step - loss: 0.1786 - accuracy: 0.9494\n",
      "Epoch 17/200\n",
      "2060/2060 [==============================] - 33s 16ms/step - loss: 0.1642 - accuracy: 0.9549\n",
      "Epoch 18/200\n",
      "2060/2060 [==============================] - 31s 15ms/step - loss: 0.1576 - accuracy: 0.9562\n",
      "Epoch 19/200\n",
      "2060/2060 [==============================] - 31s 15ms/step - loss: 0.1495 - accuracy: 0.9573\n",
      "Epoch 20/200\n",
      "2060/2060 [==============================] - 32s 15ms/step - loss: 0.1429 - accuracy: 0.9603\n",
      "Epoch 21/200\n",
      "2060/2060 [==============================] - 31s 15ms/step - loss: 0.1329 - accuracy: 0.9633\n",
      "Epoch 22/200\n",
      "2060/2060 [==============================] - 32s 16ms/step - loss: 0.1334 - accuracy: 0.9626\n",
      "Epoch 23/200\n",
      "2060/2060 [==============================] - 31s 15ms/step - loss: 0.1258 - accuracy: 0.9644\n",
      "Epoch 24/200\n",
      "2060/2060 [==============================] - 33s 16ms/step - loss: 0.1241 - accuracy: 0.9643\n",
      "Epoch 25/200\n",
      "2060/2060 [==============================] - 31s 15ms/step - loss: 0.1185 - accuracy: 0.9664\n",
      "Epoch 26/200\n",
      "2060/2060 [==============================] - 28s 14ms/step - loss: 0.1127 - accuracy: 0.9672\n",
      "Epoch 27/200\n",
      "2060/2060 [==============================] - 31s 15ms/step - loss: 0.1082 - accuracy: 0.9696\n",
      "Epoch 28/200\n",
      "2060/2060 [==============================] - 33s 16ms/step - loss: 0.1054 - accuracy: 0.9691\n",
      "Epoch 29/200\n",
      "2060/2060 [==============================] - 41s 20ms/step - loss: 0.1040 - accuracy: 0.9703\n",
      "Epoch 30/200\n",
      "2060/2060 [==============================] - 39s 19ms/step - loss: 0.1014 - accuracy: 0.9710\n",
      "Epoch 31/200\n",
      "2060/2060 [==============================] - 34s 16ms/step - loss: 0.0940 - accuracy: 0.9730\n",
      "Epoch 32/200\n",
      "2060/2060 [==============================] - 34s 17ms/step - loss: 0.0948 - accuracy: 0.9725\n",
      "Epoch 33/200\n",
      "2060/2060 [==============================] - 35s 17ms/step - loss: 0.0902 - accuracy: 0.9742\n",
      "Epoch 34/200\n",
      "2060/2060 [==============================] - 36s 18ms/step - loss: 0.0888 - accuracy: 0.9738\n",
      "Epoch 35/200\n",
      "2060/2060 [==============================] - 44s 21ms/step - loss: 0.0861 - accuracy: 0.9754\n",
      "Epoch 36/200\n",
      "2060/2060 [==============================] - 39s 19ms/step - loss: 0.0822 - accuracy: 0.9765\n",
      "Epoch 37/200\n",
      "2060/2060 [==============================] - 27s 13ms/step - loss: 0.0824 - accuracy: 0.9766\n",
      "Epoch 38/200\n",
      "2060/2060 [==============================] - 27s 13ms/step - loss: 0.0796 - accuracy: 0.9765\n",
      "Epoch 39/200\n",
      "2060/2060 [==============================] - 26s 13ms/step - loss: 0.0775 - accuracy: 0.9776\n",
      "Epoch 40/200\n",
      "2060/2060 [==============================] - 35s 17ms/step - loss: 0.0745 - accuracy: 0.9793\n",
      "Epoch 41/200\n",
      "2060/2060 [==============================] - 44s 21ms/step - loss: 0.0762 - accuracy: 0.9763\n",
      "Epoch 42/200\n",
      "2060/2060 [==============================] - 37s 18ms/step - loss: 0.0726 - accuracy: 0.9797\n",
      "Epoch 43/200\n",
      "2060/2060 [==============================] - 36s 17ms/step - loss: 0.0725 - accuracy: 0.9787\n",
      "Epoch 44/200\n",
      "2060/2060 [==============================] - 39s 19ms/step - loss: 0.0696 - accuracy: 0.9798\n",
      "Epoch 45/200\n",
      "2060/2060 [==============================] - 41s 20ms/step - loss: 0.0663 - accuracy: 0.9810\n",
      "Epoch 46/200\n",
      "2060/2060 [==============================] - 37s 18ms/step - loss: 0.0675 - accuracy: 0.9806\n",
      "Epoch 47/200\n",
      "2060/2060 [==============================] - 34s 17ms/step - loss: 0.0643 - accuracy: 0.9814\n",
      "Epoch 48/200\n",
      "2060/2060 [==============================] - 33s 16ms/step - loss: 0.0649 - accuracy: 0.9810\n",
      "Epoch 49/200\n",
      "2060/2060 [==============================] - 32s 16ms/step - loss: 0.0632 - accuracy: 0.9807\n",
      "Epoch 50/200\n",
      "2060/2060 [==============================] - 32s 16ms/step - loss: 0.0643 - accuracy: 0.9812\n",
      "Epoch 51/200\n",
      "2060/2060 [==============================] - 37s 18ms/step - loss: 0.0599 - accuracy: 0.9821\n",
      "Epoch 52/200\n",
      "2060/2060 [==============================] - 31s 15ms/step - loss: 0.0615 - accuracy: 0.9825\n",
      "Epoch 53/200\n",
      "2060/2060 [==============================] - 39s 19ms/step - loss: 0.0608 - accuracy: 0.9826\n",
      "Epoch 54/200\n",
      "2060/2060 [==============================] - 32s 16ms/step - loss: 0.0568 - accuracy: 0.9832\n",
      "Epoch 55/200\n",
      "2060/2060 [==============================] - 44s 21ms/step - loss: 0.0577 - accuracy: 0.9830\n",
      "Epoch 56/200\n",
      "2060/2060 [==============================] - 40s 19ms/step - loss: 0.0529 - accuracy: 0.9850\n",
      "Epoch 57/200\n",
      "2060/2060 [==============================] - 51s 25ms/step - loss: 0.0557 - accuracy: 0.9834\n",
      "Epoch 58/200\n",
      "2060/2060 [==============================] - 47s 23ms/step - loss: 0.0531 - accuracy: 0.9849\n",
      "Epoch 59/200\n",
      "2060/2060 [==============================] - 47s 23ms/step - loss: 0.0531 - accuracy: 0.9846\n",
      "Epoch 60/200\n",
      "2060/2060 [==============================] - 49s 24ms/step - loss: 0.0534 - accuracy: 0.9837\n",
      "Epoch 61/200\n",
      "2060/2060 [==============================] - 48s 23ms/step - loss: 0.0533 - accuracy: 0.9841\n",
      "Epoch 62/200\n",
      "2060/2060 [==============================] - 47s 23ms/step - loss: 0.0503 - accuracy: 0.9857\n",
      "Epoch 63/200\n",
      "2060/2060 [==============================] - 38s 19ms/step - loss: 0.0524 - accuracy: 0.9843\n",
      "Epoch 64/200\n",
      "2060/2060 [==============================] - 45s 22ms/step - loss: 0.0499 - accuracy: 0.9857\n",
      "Epoch 65/200\n",
      "2060/2060 [==============================] - 51s 25ms/step - loss: 0.0479 - accuracy: 0.9865\n",
      "Epoch 66/200\n",
      "2060/2060 [==============================] - 43s 21ms/step - loss: 0.0469 - accuracy: 0.9862\n",
      "Epoch 67/200\n",
      "2060/2060 [==============================] - 42s 20ms/step - loss: 0.0485 - accuracy: 0.9860\n",
      "Epoch 68/200\n",
      "2060/2060 [==============================] - 49s 24ms/step - loss: 0.0461 - accuracy: 0.9868\n",
      "Epoch 69/200\n",
      "2060/2060 [==============================] - 31s 15ms/step - loss: 0.0485 - accuracy: 0.9856\n",
      "Epoch 70/200\n",
      "2060/2060 [==============================] - 28s 14ms/step - loss: 0.0454 - accuracy: 0.9864\n",
      "Epoch 71/200\n",
      "2060/2060 [==============================] - 34s 17ms/step - loss: 0.0459 - accuracy: 0.9866\n",
      "Epoch 72/200\n",
      "2060/2060 [==============================] - 34s 17ms/step - loss: 0.0448 - accuracy: 0.9867\n",
      "Epoch 73/200\n",
      "2060/2060 [==============================] - 42s 20ms/step - loss: 0.0447 - accuracy: 0.9871\n",
      "Epoch 74/200\n",
      "2060/2060 [==============================] - 35s 17ms/step - loss: 0.0441 - accuracy: 0.9866\n",
      "Epoch 75/200\n",
      "2060/2060 [==============================] - 38s 19ms/step - loss: 0.0438 - accuracy: 0.9871\n",
      "Epoch 76/200\n",
      "2060/2060 [==============================] - 35s 17ms/step - loss: 0.0437 - accuracy: 0.9869\n",
      "Epoch 77/200\n",
      "2060/2060 [==============================] - 32s 15ms/step - loss: 0.0412 - accuracy: 0.9881\n",
      "Epoch 78/200\n",
      "2060/2060 [==============================] - 35s 17ms/step - loss: 0.0449 - accuracy: 0.9872\n",
      "Epoch 79/200\n",
      "2060/2060 [==============================] - 36s 17ms/step - loss: 0.0416 - accuracy: 0.9881\n",
      "Epoch 80/200\n",
      "2060/2060 [==============================] - 30s 15ms/step - loss: 0.0421 - accuracy: 0.9873\n",
      "Epoch 81/200\n",
      "2060/2060 [==============================] - 43s 21ms/step - loss: 0.0393 - accuracy: 0.9888\n",
      "Epoch 82/200\n",
      "2060/2060 [==============================] - 37s 18ms/step - loss: 0.0388 - accuracy: 0.9885\n",
      "Epoch 83/200\n",
      "2060/2060 [==============================] - 45s 22ms/step - loss: 0.0425 - accuracy: 0.9870\n",
      "Epoch 84/200\n",
      "2060/2060 [==============================] - 34s 17ms/step - loss: 0.0404 - accuracy: 0.9878\n",
      "Epoch 85/200\n",
      "2060/2060 [==============================] - 37s 18ms/step - loss: 0.0388 - accuracy: 0.9887\n",
      "Epoch 86/200\n",
      "2060/2060 [==============================] - 44s 22ms/step - loss: 0.0391 - accuracy: 0.9882\n",
      "Epoch 87/200\n",
      "2060/2060 [==============================] - 45s 22ms/step - loss: 0.0391 - accuracy: 0.9883\n",
      "Epoch 88/200\n",
      "2060/2060 [==============================] - 37s 18ms/step - loss: 0.0374 - accuracy: 0.9887\n",
      "Epoch 89/200\n",
      "2060/2060 [==============================] - 41s 20ms/step - loss: 0.0376 - accuracy: 0.9886\n",
      "Epoch 90/200\n",
      "2060/2060 [==============================] - 33s 16ms/step - loss: 0.0369 - accuracy: 0.9886\n",
      "Epoch 91/200\n",
      "2060/2060 [==============================] - 34s 16ms/step - loss: 0.0381 - accuracy: 0.9885\n",
      "Epoch 92/200\n",
      "2060/2060 [==============================] - 34s 16ms/step - loss: 0.0376 - accuracy: 0.9888\n",
      "Epoch 93/200\n",
      "2060/2060 [==============================] - 37s 18ms/step - loss: 0.0377 - accuracy: 0.9883\n",
      "Epoch 94/200\n",
      "2060/2060 [==============================] - 44s 22ms/step - loss: 0.0375 - accuracy: 0.9887\n",
      "Epoch 95/200\n",
      "2060/2060 [==============================] - 32s 16ms/step - loss: 0.0353 - accuracy: 0.9896\n",
      "Epoch 96/200\n",
      "2060/2060 [==============================] - 29s 14ms/step - loss: 0.0367 - accuracy: 0.9889\n",
      "Epoch 97/200\n",
      "2060/2060 [==============================] - 36s 17ms/step - loss: 0.0382 - accuracy: 0.9884\n",
      "Epoch 98/200\n",
      "2060/2060 [==============================] - 31s 15ms/step - loss: 0.0359 - accuracy: 0.9892\n",
      "Epoch 99/200\n",
      "2060/2060 [==============================] - 33s 16ms/step - loss: 0.0346 - accuracy: 0.9895\n",
      "Epoch 100/200\n",
      "2060/2060 [==============================] - 38s 18ms/step - loss: 0.0338 - accuracy: 0.9900\n",
      "Epoch 101/200\n",
      "2060/2060 [==============================] - 40s 19ms/step - loss: 0.0346 - accuracy: 0.9894\n",
      "Epoch 102/200\n",
      "2060/2060 [==============================] - 28s 14ms/step - loss: 0.0351 - accuracy: 0.9894\n",
      "Epoch 103/200\n",
      "2060/2060 [==============================] - 36s 18ms/step - loss: 0.0347 - accuracy: 0.9895\n",
      "Epoch 104/200\n",
      "2060/2060 [==============================] - 36s 18ms/step - loss: 0.0347 - accuracy: 0.9894\n",
      "Epoch 105/200\n",
      "2060/2060 [==============================] - 34s 17ms/step - loss: 0.0329 - accuracy: 0.9907\n",
      "Epoch 106/200\n",
      "2060/2060 [==============================] - 34s 17ms/step - loss: 0.0345 - accuracy: 0.9896\n",
      "Epoch 107/200\n",
      "2060/2060 [==============================] - 38s 18ms/step - loss: 0.0332 - accuracy: 0.9905\n",
      "Epoch 108/200\n",
      "2060/2060 [==============================] - 43s 21ms/step - loss: 0.0350 - accuracy: 0.9889\n",
      "Epoch 109/200\n",
      "2060/2060 [==============================] - 30s 14ms/step - loss: 0.0326 - accuracy: 0.9903\n",
      "Epoch 110/200\n",
      "2060/2060 [==============================] - 29s 14ms/step - loss: 0.0337 - accuracy: 0.9895\n",
      "Epoch 111/200\n",
      "2060/2060 [==============================] - 29s 14ms/step - loss: 0.0320 - accuracy: 0.9902\n",
      "Epoch 112/200\n",
      "2060/2060 [==============================] - 36s 18ms/step - loss: 0.0306 - accuracy: 0.9908\n",
      "Epoch 113/200\n",
      "2060/2060 [==============================] - 35s 17ms/step - loss: 0.0303 - accuracy: 0.9909\n",
      "Epoch 114/200\n",
      "2060/2060 [==============================] - 38s 18ms/step - loss: 0.0314 - accuracy: 0.9905\n",
      "Epoch 115/200\n",
      "2060/2060 [==============================] - 46s 22ms/step - loss: 0.0320 - accuracy: 0.9906\n",
      "Epoch 116/200\n",
      "2060/2060 [==============================] - 38s 19ms/step - loss: 0.0318 - accuracy: 0.9904\n",
      "Epoch 117/200\n",
      "2060/2060 [==============================] - 39s 19ms/step - loss: 0.0297 - accuracy: 0.9914\n",
      "Epoch 118/200\n",
      "2060/2060 [==============================] - 36s 18ms/step - loss: 0.0306 - accuracy: 0.9906\n",
      "Epoch 119/200\n",
      "2060/2060 [==============================] - 29s 14ms/step - loss: 0.0296 - accuracy: 0.9913\n",
      "Epoch 120/200\n",
      "2060/2060 [==============================] - 41s 20ms/step - loss: 0.0284 - accuracy: 0.9920\n",
      "Epoch 121/200\n",
      "2060/2060 [==============================] - 31s 15ms/step - loss: 0.0313 - accuracy: 0.9907\n",
      "Epoch 122/200\n",
      "2060/2060 [==============================] - 32s 15ms/step - loss: 0.0293 - accuracy: 0.9911\n",
      "Epoch 123/200\n",
      "2060/2060 [==============================] - 33s 16ms/step - loss: 0.0304 - accuracy: 0.9905\n",
      "Epoch 124/200\n",
      "2060/2060 [==============================] - 33s 16ms/step - loss: 0.0286 - accuracy: 0.9909\n",
      "Epoch 125/200\n",
      "2060/2060 [==============================] - 29s 14ms/step - loss: 0.0273 - accuracy: 0.9917\n",
      "Epoch 126/200\n",
      "2060/2060 [==============================] - 29s 14ms/step - loss: 0.0312 - accuracy: 0.9905\n",
      "Epoch 127/200\n",
      "2060/2060 [==============================] - 29s 14ms/step - loss: 0.0283 - accuracy: 0.9915\n",
      "Epoch 128/200\n",
      "2060/2060 [==============================] - 29s 14ms/step - loss: 0.0299 - accuracy: 0.9906\n",
      "Epoch 129/200\n",
      "2060/2060 [==============================] - 29s 14ms/step - loss: 0.0283 - accuracy: 0.9914\n",
      "Epoch 130/200\n",
      "2060/2060 [==============================] - 29s 14ms/step - loss: 0.0298 - accuracy: 0.9909\n",
      "Epoch 131/200\n",
      "2060/2060 [==============================] - 33s 16ms/step - loss: 0.0286 - accuracy: 0.9912\n",
      "Epoch 132/200\n",
      "2060/2060 [==============================] - 35s 17ms/step - loss: 0.0289 - accuracy: 0.9916\n",
      "Epoch 133/200\n",
      "2060/2060 [==============================] - 40s 19ms/step - loss: 0.0268 - accuracy: 0.9921\n",
      "Epoch 134/200\n",
      "2060/2060 [==============================] - 45s 22ms/step - loss: 0.0272 - accuracy: 0.9919\n",
      "Epoch 135/200\n",
      "2060/2060 [==============================] - 48s 23ms/step - loss: 0.0276 - accuracy: 0.9920\n",
      "Epoch 136/200\n",
      "2060/2060 [==============================] - 37s 18ms/step - loss: 0.0294 - accuracy: 0.9911\n",
      "Epoch 137/200\n",
      "2060/2060 [==============================] - 34s 16ms/step - loss: 0.0270 - accuracy: 0.9920\n",
      "Epoch 138/200\n",
      "2060/2060 [==============================] - 43s 21ms/step - loss: 0.0299 - accuracy: 0.9912\n",
      "Epoch 139/200\n",
      "2060/2060 [==============================] - 41s 20ms/step - loss: 0.0275 - accuracy: 0.9919\n",
      "Epoch 140/200\n",
      "2060/2060 [==============================] - 41s 20ms/step - loss: 0.0264 - accuracy: 0.9917\n",
      "Epoch 141/200\n",
      "2060/2060 [==============================] - 42s 21ms/step - loss: 0.0257 - accuracy: 0.9922\n",
      "Epoch 142/200\n",
      "2060/2060 [==============================] - 41s 20ms/step - loss: 0.0274 - accuracy: 0.9919\n",
      "Epoch 143/200\n",
      "2060/2060 [==============================] - 42s 21ms/step - loss: 0.0267 - accuracy: 0.9915\n",
      "Epoch 144/200\n",
      "2060/2060 [==============================] - 43s 21ms/step - loss: 0.0242 - accuracy: 0.9931\n",
      "Epoch 145/200\n",
      "2060/2060 [==============================] - 45s 22ms/step - loss: 0.0265 - accuracy: 0.9918\n",
      "Epoch 146/200\n",
      "2060/2060 [==============================] - 43s 21ms/step - loss: 0.0272 - accuracy: 0.9919\n",
      "Epoch 147/200\n",
      "2060/2060 [==============================] - 44s 21ms/step - loss: 0.0261 - accuracy: 0.9920\n",
      "Epoch 148/200\n",
      "2060/2060 [==============================] - 37s 18ms/step - loss: 0.0257 - accuracy: 0.9921\n",
      "Epoch 149/200\n",
      "2060/2060 [==============================] - 52s 25ms/step - loss: 0.0232 - accuracy: 0.9933\n",
      "Epoch 150/200\n",
      "2060/2060 [==============================] - 44s 21ms/step - loss: 0.0247 - accuracy: 0.9928\n",
      "Epoch 151/200\n",
      "2060/2060 [==============================] - 37s 18ms/step - loss: 0.0247 - accuracy: 0.9924\n",
      "Epoch 152/200\n",
      "2060/2060 [==============================] - 47s 23ms/step - loss: 0.0269 - accuracy: 0.9919\n",
      "Epoch 153/200\n",
      "2060/2060 [==============================] - 47s 23ms/step - loss: 0.0260 - accuracy: 0.9920\n",
      "Epoch 154/200\n",
      "2060/2060 [==============================] - 41s 20ms/step - loss: 0.0233 - accuracy: 0.9932\n",
      "Epoch 155/200\n",
      "2060/2060 [==============================] - 32s 15ms/step - loss: 0.0247 - accuracy: 0.9923\n",
      "Epoch 156/200\n",
      "2060/2060 [==============================] - 38s 19ms/step - loss: 0.0271 - accuracy: 0.9918\n",
      "Epoch 157/200\n",
      "2060/2060 [==============================] - 39s 19ms/step - loss: 0.0254 - accuracy: 0.9920\n",
      "Epoch 158/200\n",
      "2060/2060 [==============================] - 33s 16ms/step - loss: 0.0240 - accuracy: 0.9926\n",
      "Epoch 159/200\n",
      "2060/2060 [==============================] - 41s 20ms/step - loss: 0.0250 - accuracy: 0.9926\n",
      "Epoch 160/200\n",
      "2060/2060 [==============================] - 34s 17ms/step - loss: 0.0268 - accuracy: 0.9911\n",
      "Epoch 161/200\n",
      "2060/2060 [==============================] - 45s 22ms/step - loss: 0.0219 - accuracy: 0.9938\n",
      "Epoch 162/200\n",
      "2060/2060 [==============================] - 45s 22ms/step - loss: 0.0248 - accuracy: 0.9919\n",
      "Epoch 163/200\n",
      "2060/2060 [==============================] - 35s 17ms/step - loss: 0.0231 - accuracy: 0.9929\n",
      "Epoch 164/200\n",
      "2060/2060 [==============================] - 37s 18ms/step - loss: 0.0246 - accuracy: 0.9923\n",
      "Epoch 165/200\n",
      "2060/2060 [==============================] - 44s 21ms/step - loss: 0.0234 - accuracy: 0.9927\n",
      "Epoch 166/200\n",
      "2060/2060 [==============================] - 46s 22ms/step - loss: 0.0236 - accuracy: 0.9927\n",
      "Epoch 167/200\n",
      "2060/2060 [==============================] - 34s 17ms/step - loss: 0.0254 - accuracy: 0.9923\n",
      "Epoch 168/200\n",
      "2060/2060 [==============================] - 47s 23ms/step - loss: 0.0228 - accuracy: 0.9928\n",
      "Epoch 169/200\n",
      "2060/2060 [==============================] - 32s 16ms/step - loss: 0.0239 - accuracy: 0.9931\n",
      "Epoch 170/200\n",
      "2060/2060 [==============================] - 41s 20ms/step - loss: 0.0211 - accuracy: 0.9939\n",
      "Epoch 171/200\n",
      "2060/2060 [==============================] - 31s 15ms/step - loss: 0.0233 - accuracy: 0.9932\n",
      "Epoch 172/200\n",
      "2060/2060 [==============================] - 33s 16ms/step - loss: 0.0234 - accuracy: 0.9927\n",
      "Epoch 173/200\n",
      "2060/2060 [==============================] - 33s 16ms/step - loss: 0.0235 - accuracy: 0.9932\n",
      "Epoch 174/200\n",
      "2060/2060 [==============================] - 32s 15ms/step - loss: 0.0221 - accuracy: 0.9929\n",
      "Epoch 175/200\n",
      "2060/2060 [==============================] - 46s 23ms/step - loss: 0.0219 - accuracy: 0.9933\n",
      "Epoch 176/200\n",
      "2060/2060 [==============================] - 44s 21ms/step - loss: 0.0239 - accuracy: 0.9923\n",
      "Epoch 177/200\n",
      "2060/2060 [==============================] - 44s 21ms/step - loss: 0.0229 - accuracy: 0.9928\n",
      "Epoch 178/200\n",
      "2060/2060 [==============================] - 42s 21ms/step - loss: 0.0233 - accuracy: 0.9929\n",
      "Epoch 179/200\n",
      "2060/2060 [==============================] - 41s 20ms/step - loss: 0.0227 - accuracy: 0.9929\n",
      "Epoch 180/200\n",
      "2060/2060 [==============================] - 50s 24ms/step - loss: 0.0219 - accuracy: 0.9939\n",
      "Epoch 181/200\n",
      "2060/2060 [==============================] - 38s 19ms/step - loss: 0.0232 - accuracy: 0.9931\n",
      "Epoch 182/200\n",
      "2060/2060 [==============================] - 36s 17ms/step - loss: 0.0234 - accuracy: 0.9930\n",
      "Epoch 183/200\n",
      "2060/2060 [==============================] - 36s 17ms/step - loss: 0.0212 - accuracy: 0.9935\n",
      "Epoch 184/200\n",
      "2060/2060 [==============================] - 31s 15ms/step - loss: 0.0215 - accuracy: 0.9933\n",
      "Epoch 185/200\n",
      "2060/2060 [==============================] - 29s 14ms/step - loss: 0.0226 - accuracy: 0.9929\n",
      "Epoch 186/200\n",
      "2060/2060 [==============================] - 33s 16ms/step - loss: 0.0231 - accuracy: 0.9927\n",
      "Epoch 187/200\n",
      "2060/2060 [==============================] - 31s 15ms/step - loss: 0.0223 - accuracy: 0.9931\n",
      "Epoch 188/200\n",
      "2060/2060 [==============================] - 27s 13ms/step - loss: 0.0224 - accuracy: 0.9935\n",
      "Epoch 189/200\n",
      "2060/2060 [==============================] - 29s 14ms/step - loss: 0.0212 - accuracy: 0.9935\n",
      "Epoch 190/200\n",
      "2060/2060 [==============================] - 28s 14ms/step - loss: 0.0224 - accuracy: 0.9937\n",
      "Epoch 191/200\n",
      "2060/2060 [==============================] - 25s 12ms/step - loss: 0.0219 - accuracy: 0.9930\n",
      "Epoch 192/200\n",
      "2060/2060 [==============================] - 25s 12ms/step - loss: 0.0220 - accuracy: 0.9933\n",
      "Epoch 193/200\n",
      "2060/2060 [==============================] - 25s 12ms/step - loss: 0.0211 - accuracy: 0.9934\n",
      "Epoch 194/200\n",
      "2060/2060 [==============================] - 25s 12ms/step - loss: 0.0226 - accuracy: 0.9929\n",
      "Epoch 195/200\n",
      "2060/2060 [==============================] - 25s 12ms/step - loss: 0.0215 - accuracy: 0.9933\n",
      "Epoch 196/200\n",
      "2060/2060 [==============================] - 25s 12ms/step - loss: 0.0215 - accuracy: 0.9935\n",
      "Epoch 197/200\n",
      "2060/2060 [==============================] - 25s 12ms/step - loss: 0.0222 - accuracy: 0.9930\n",
      "Epoch 198/200\n",
      "2060/2060 [==============================] - 25s 12ms/step - loss: 0.0229 - accuracy: 0.9929\n",
      "Epoch 199/200\n",
      "2060/2060 [==============================] - 25s 12ms/step - loss: 0.0227 - accuracy: 0.9931\n",
      "Epoch 200/200\n",
      "2060/2060 [==============================] - 25s 12ms/step - loss: 0.0231 - accuracy: 0.9931\n"
     ]
    }
   ],
   "source": [
    "history = model.fit(train_X, train_Y, batch_size=BATCH_SIZE, epochs=TRAINING_EPOCHS, shuffle=True)"
   ]
  },
  {
   "cell_type": "code",
   "execution_count": 26,
   "id": "senior-clothing",
   "metadata": {},
   "outputs": [],
   "source": [
    "epochs = range(1, TRAINING_EPOCHS+1)"
   ]
  },
  {
   "cell_type": "code",
   "execution_count": 27,
   "id": "oriented-guitar",
   "metadata": {},
   "outputs": [
    {
     "data": {
      "text/plain": [
       "<function matplotlib.pyplot.show(close=None, block=None)>"
      ]
     },
     "execution_count": 27,
     "metadata": {},
     "output_type": "execute_result"
    },
    {
     "data": {
      "image/png": "[encoded data removed]",
      "text/plain": [
       "<Figure size 1080x576 with 1 Axes>"
      ]
     },
     "metadata": {
      "needs_background": "light"
     },
     "output_type": "display_data"
    }
   ],
   "source": [
    "loss = history.history['loss']\n",
    "plt.figure(figsize=(15,8))\n",
    "plt.plot(epochs, loss, label=\"Loss\")\n",
    "plt.xlabel('Epochs')\n",
    "plt.ylabel('Loss')\n",
    "plt.legend()\n",
    "\n",
    "plt.show"
   ]
  },
  {
   "cell_type": "code",
   "execution_count": 28,
   "id": "impressive-least",
   "metadata": {},
   "outputs": [
    {
     "data": {
      "text/plain": [
       "<function matplotlib.pyplot.show(close=None, block=None)>"
      ]
     },
     "execution_count": 28,
     "metadata": {},
     "output_type": "execute_result"
    },
    {
     "data": {
      "image/png": "[encoded data removed]",
      "text/plain": [
       "<Figure size 1080x576 with 1 Axes>"
      ]
     },
     "metadata": {
      "needs_background": "light"
     },
     "output_type": "display_data"
    }
   ],
   "source": [
    "accuracy = history.history['accuracy']\n",
    "plt.figure(figsize=(15,8))\n",
    "plt.plot(epochs, accuracy, label=\"Accuracy\")\n",
    "plt.xlabel('Epochs')\n",
    "plt.ylabel('Accuracy')\n",
    "plt.legend()\n",
    "\n",
    "plt.show"
   ]
  },
  {
   "cell_type": "code",
   "execution_count": 29,
   "id": "complimentary-struggle",
   "metadata": {},
   "outputs": [
    {
     "name": "stdout",
     "output_type": "stream",
     "text": [
      "229/229 - 1s - loss: 0.0223 - accuracy: 0.9944\n"
     ]
    }
   ],
   "source": [
    "bridge_loss, bridge_accuracy = model.evaluate(bridge_X, bridge_Y, batch_size=BATCH_SIZE, verbose=2)"
   ]
  },
  {
   "cell_type": "code",
   "execution_count": 30,
   "id": "exterior-blocking",
   "metadata": {},
   "outputs": [
    {
     "name": "stdout",
     "output_type": "stream",
     "text": [
      "164/164 - 1s - loss: 0.0253 - accuracy: 0.9912\n"
     ]
    }
   ],
   "source": [
    "dev_loss, dev_accuracy = model.evaluate(dev_X, dev_Y, batch_size=BATCH_SIZE, verbose=2)"
   ]
  },
  {
   "cell_type": "code",
   "execution_count": 31,
   "id": "graduate-harmony",
   "metadata": {},
   "outputs": [],
   "source": [
    "training_accuracy = history.history['accuracy'][-1]"
   ]
  },
  {
   "cell_type": "code",
   "execution_count": 32,
   "id": "reported-potter",
   "metadata": {},
   "outputs": [
    {
     "name": "stdout",
     "output_type": "stream",
     "text": [
      "Training accuracy: 0.9928236603736877\n",
      "Bridge accuracy: 0.9944019913673401\n",
      "Dev accuracy: 0.9912062883377075\n"
     ]
    }
   ],
   "source": [
    "print(f'Training accuracy: {training_accuracy}')\n",
    "print(f'Bridge accuracy: {bridge_accuracy}')\n",
    "print(f'Dev accuracy: {dev_accuracy}')"
   ]
  },
  {
   "cell_type": "code",
   "execution_count": 33,
   "id": "radical-lesson",
   "metadata": {},
   "outputs": [
    {
     "name": "stdout",
     "output_type": "stream",
     "text": [
      "INFO:tensorflow:Assets written to: trained-model/assets\n"
     ]
    }
   ],
   "source": [
    "model.save('trained-model')"
   ]
  },
  {
   "cell_type": "code",
   "execution_count": 5,
   "id": "hidden-authentication",
   "metadata": {},
   "outputs": [],
   "source": [
    "model = tf.keras.models.load_model('trained-model')"
   ]
  },
  {
   "cell_type": "code",
   "execution_count": 15,
   "id": "informed-sentence",
   "metadata": {},
   "outputs": [],
   "source": [
    "predictions = model.predict(test_X)"
   ]
  },
  {
   "cell_type": "code",
   "execution_count": 20,
   "id": "familiar-external",
   "metadata": {},
   "outputs": [],
   "source": [
    "confusion_matrix_columns = [key for key in class_labels.keys()]"
   ]
  },
  {
   "cell_type": "code",
   "execution_count": 49,
   "id": "retained-theta",
   "metadata": {},
   "outputs": [],
   "source": [
    "predictions_converted = np.argmax(predictions, axis=1)"
   ]
  },
  {
   "cell_type": "code",
   "execution_count": 50,
   "id": "worthy-sphere",
   "metadata": {},
   "outputs": [],
   "source": [
    "labels_converted = np.argmax(test_Y, axis=1)"
   ]
  },
  {
   "cell_type": "code",
   "execution_count": 51,
   "id": "experienced-knight",
   "metadata": {},
   "outputs": [],
   "source": [
    "confusion_matrix_ = confusion_matrix(labels_converted, predictions_converted)"
   ]
  },
  {
   "cell_type": "code",
   "execution_count": 40,
   "id": "active-location",
   "metadata": {},
   "outputs": [],
   "source": [
    "confusion_matrix_df = DataFrame(confusion_matrix_, index=confusion_matrix_columns, columns=confusion_matrix_columns)"
   ]
  },
  {
   "cell_type": "code",
   "execution_count": 41,
   "id": "absent-bedroom",
   "metadata": {},
   "outputs": [
    {
     "data": {
      "image/png": "[encoded data removed]",
      "text/plain": [
       "<Figure size 936x936 with 1 Axes>"
      ]
     },
     "metadata": {
      "needs_background": "light"
     },
     "output_type": "display_data"
    }
   ],
   "source": [
    "pretty_plot_confusion_matrix(confusion_matrix_df, annot=True, cmap=\"Oranges\", figsize=[13,13])"
   ]
  },
  {
   "cell_type": "code",
   "execution_count": 52,
   "id": "surface-ferry",
   "metadata": {},
   "outputs": [],
   "source": [
    "test_accuracy = accuracy_score(labels_converted, predictions_converted)"
   ]
  },
  {
   "cell_type": "code",
   "execution_count": 53,
   "id": "breathing-essence",
   "metadata": {},
   "outputs": [
    {
     "data": {
      "text/plain": [
       "0.9957951070336392"
      ]
     },
     "execution_count": 53,
     "metadata": {},
     "output_type": "execute_result"
    }
   ],
   "source": [
    "test_accuracy"
   ]
  },
  {
   "cell_type": "code",
   "execution_count": 68,
   "id": "monetary-criterion",
   "metadata": {},
   "outputs": [],
   "source": [
    "macro_precision = precision_score(labels_converted, predictions_converted, average='weighted')"
   ]
  },
  {
   "cell_type": "code",
   "execution_count": 69,
   "id": "eastern-elevation",
   "metadata": {},
   "outputs": [
    {
     "data": {
      "text/plain": [
       "0.9958321450754103"
      ]
     },
     "execution_count": 69,
     "metadata": {},
     "output_type": "execute_result"
    }
   ],
   "source": [
    "macro_precision"
   ]
  },
  {
   "cell_type": "code",
   "execution_count": 66,
   "id": "emerging-skating",
   "metadata": {},
   "outputs": [],
   "source": [
    "macro_recall = recall_score(labels_converted, predictions_converted, average='weighted')"
   ]
  },
  {
   "cell_type": "code",
   "execution_count": 67,
   "id": "speaking-trustee",
   "metadata": {},
   "outputs": [
    {
     "data": {
      "text/plain": [
       "0.9957951070336392"
      ]
     },
     "execution_count": 67,
     "metadata": {},
     "output_type": "execute_result"
    }
   ],
   "source": [
    "macro_recall"
   ]
  },
  {
   "cell_type": "code",
   "execution_count": 64,
   "id": "julian-intro",
   "metadata": {},
   "outputs": [],
   "source": [
    "f1_score = f1_score(labels_converted, predictions_converted, average='weighted')"
   ]
  },
  {
   "cell_type": "code",
   "execution_count": 65,
   "id": "crazy-consultancy",
   "metadata": {},
   "outputs": [
    {
     "data": {
      "text/plain": [
       "0.9958027777553583"
      ]
     },
     "execution_count": 65,
     "metadata": {},
     "output_type": "execute_result"
    }
   ],
   "source": [
    "f1_score"
   ]
  },
  {
   "cell_type": "code",
   "execution_count": null,
   "id": "novel-avatar",
   "metadata": {},
   "outputs": [],
   "source": []
  }
 ],
 "metadata": {
  "kernelspec": {
   "display_name": "Python 3",
   "language": "python",
   "name": "python3"
  },
  "language_info": {
   "codemirror_mode": {
    "name": "ipython",
    "version": 3
   },
   "file_extension": ".py",
   "mimetype": "text/x-python",
   "name": "python",
   "nbconvert_exporter": "python",
   "pygments_lexer": "ipython3",
   "version": "3.8.8"
  }
 },
 "nbformat": 4,
 "nbformat_minor": 5
}
